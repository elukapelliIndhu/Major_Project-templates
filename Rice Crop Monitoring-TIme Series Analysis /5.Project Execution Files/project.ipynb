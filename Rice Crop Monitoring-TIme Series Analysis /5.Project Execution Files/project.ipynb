{
 "cells": [
  {
   "cell_type": "code",
   "execution_count": 1,
   "metadata": {},
   "outputs": [
    {
     "name": "stdout",
     "output_type": "stream",
     "text": [
      "Note: you may need to restart the kernel to use updated packages.\n"
     ]
    },
    {
     "name": "stderr",
     "output_type": "stream",
     "text": [
      "  error: subprocess-exited-with-error\n",
      "  \n",
      "  × python setup.py egg_info did not run successfully.\n",
      "  │ exit code: 1\n",
      "  ╰─> [15 lines of output]\n",
      "      The 'sklearn' PyPI package is deprecated, use 'scikit-learn'\n",
      "      rather than 'sklearn' for pip commands.\n",
      "      \n",
      "      Here is how to fix this error in the main use cases:\n",
      "      - use 'pip install scikit-learn' rather than 'pip install sklearn'\n",
      "      - replace 'sklearn' by 'scikit-learn' in your pip requirements files\n",
      "        (requirements.txt, setup.py, setup.cfg, Pipfile, etc ...)\n",
      "      - if the 'sklearn' package is used by one of your dependencies,\n",
      "        it would be great if you take some time to track which package uses\n",
      "        'sklearn' instead of 'scikit-learn' and report it to their issue tracker\n",
      "      - as a last resort, set the environment variable\n",
      "        SKLEARN_ALLOW_DEPRECATED_SKLEARN_PACKAGE_INSTALL=True to avoid this error\n",
      "      \n",
      "      More information is available at\n",
      "      https://github.com/scikit-learn/sklearn-pypi-package\n",
      "      [end of output]\n",
      "  \n",
      "  note: This error originates from a subprocess, and is likely not a problem with pip.\n",
      "\n",
      "[notice] A new release of pip is available: 24.2 -> 24.3.1\n",
      "[notice] To update, run: python.exe -m pip install --upgrade pip\n",
      "error: metadata-generation-failed\n",
      "\n",
      "× Encountered error while generating package metadata.\n",
      "╰─> See above for output.\n",
      "\n",
      "note: This is an issue with the package mentioned above, not pip.\n",
      "hint: See above for details.\n"
     ]
    },
    {
     "name": "stdout",
     "output_type": "stream",
     "text": [
      "Collecting sklearn\n",
      "  Using cached sklearn-0.0.post12.tar.gz (2.6 kB)\n",
      "  Preparing metadata (setup.py): started\n",
      "  Preparing metadata (setup.py): finished with status 'error'\n"
     ]
    }
   ],
   "source": [
    "pip install sklearn\n"
   ]
  },
  {
   "cell_type": "code",
   "execution_count": 2,
   "metadata": {},
   "outputs": [
    {
     "name": "stdout",
     "output_type": "stream",
     "text": [
      "Requirement already satisfied: numpy in c:\\users\\indhu\\appdata\\local\\programs\\python\\python312\\lib\\site-packages (2.0.0)\n",
      "Note: you may need to restart the kernel to use updated packages.\n"
     ]
    },
    {
     "name": "stderr",
     "output_type": "stream",
     "text": [
      "\n",
      "[notice] A new release of pip is available: 24.2 -> 24.3.1\n",
      "[notice] To update, run: python.exe -m pip install --upgrade pip\n"
     ]
    }
   ],
   "source": [
    "pip install numpy"
   ]
  },
  {
   "cell_type": "code",
   "execution_count": 3,
   "metadata": {},
   "outputs": [
    {
     "name": "stdout",
     "output_type": "stream",
     "text": [
      "Requirement already satisfied: pandas in c:\\users\\indhu\\appdata\\local\\programs\\python\\python312\\lib\\site-packages (2.2.2)\n",
      "Requirement already satisfied: numpy>=1.26.0 in c:\\users\\indhu\\appdata\\local\\programs\\python\\python312\\lib\\site-packages (from pandas) (2.0.0)\n",
      "Requirement already satisfied: python-dateutil>=2.8.2 in c:\\users\\indhu\\appdata\\roaming\\python\\python312\\site-packages (from pandas) (2.9.0.post0)\n",
      "Requirement already satisfied: pytz>=2020.1 in c:\\users\\indhu\\appdata\\local\\programs\\python\\python312\\lib\\site-packages (from pandas) (2024.1)\n",
      "Requirement already satisfied: tzdata>=2022.7 in c:\\users\\indhu\\appdata\\local\\programs\\python\\python312\\lib\\site-packages (from pandas) (2024.1)\n",
      "Requirement already satisfied: six>=1.5 in c:\\users\\indhu\\appdata\\roaming\\python\\python312\\site-packages (from python-dateutil>=2.8.2->pandas) (1.16.0)\n",
      "Note: you may need to restart the kernel to use updated packages.\n"
     ]
    },
    {
     "name": "stderr",
     "output_type": "stream",
     "text": [
      "\n",
      "[notice] A new release of pip is available: 24.2 -> 24.3.1\n",
      "[notice] To update, run: python.exe -m pip install --upgrade pip\n"
     ]
    }
   ],
   "source": [
    "pip install pandas"
   ]
  },
  {
   "cell_type": "code",
   "execution_count": 4,
   "metadata": {},
   "outputs": [
    {
     "name": "stdout",
     "output_type": "stream",
     "text": [
      "Requirement already satisfied: matplotlib in c:\\users\\indhu\\appdata\\local\\programs\\python\\python312\\lib\\site-packages (3.9.1)\n",
      "Requirement already satisfied: contourpy>=1.0.1 in c:\\users\\indhu\\appdata\\local\\programs\\python\\python312\\lib\\site-packages (from matplotlib) (1.2.1)\n",
      "Requirement already satisfied: cycler>=0.10 in c:\\users\\indhu\\appdata\\local\\programs\\python\\python312\\lib\\site-packages (from matplotlib) (0.12.1)\n",
      "Requirement already satisfied: fonttools>=4.22.0 in c:\\users\\indhu\\appdata\\local\\programs\\python\\python312\\lib\\site-packages (from matplotlib) (4.53.1)\n",
      "Requirement already satisfied: kiwisolver>=1.3.1 in c:\\users\\indhu\\appdata\\local\\programs\\python\\python312\\lib\\site-packages (from matplotlib) (1.4.5)\n",
      "Requirement already satisfied: numpy>=1.23 in c:\\users\\indhu\\appdata\\local\\programs\\python\\python312\\lib\\site-packages (from matplotlib) (2.0.0)\n",
      "Requirement already satisfied: packaging>=20.0 in c:\\users\\indhu\\appdata\\roaming\\python\\python312\\site-packages (from matplotlib) (24.1)\n",
      "Requirement already satisfied: pillow>=8 in c:\\users\\indhu\\appdata\\local\\programs\\python\\python312\\lib\\site-packages (from matplotlib) (10.4.0)\n",
      "Requirement already satisfied: pyparsing>=2.3.1 in c:\\users\\indhu\\appdata\\local\\programs\\python\\python312\\lib\\site-packages (from matplotlib) (3.1.2)\n",
      "Requirement already satisfied: python-dateutil>=2.7 in c:\\users\\indhu\\appdata\\roaming\\python\\python312\\site-packages (from matplotlib) (2.9.0.post0)\n",
      "Requirement already satisfied: six>=1.5 in c:\\users\\indhu\\appdata\\roaming\\python\\python312\\site-packages (from python-dateutil>=2.7->matplotlib) (1.16.0)\n",
      "Note: you may need to restart the kernel to use updated packages.\n"
     ]
    },
    {
     "name": "stderr",
     "output_type": "stream",
     "text": [
      "\n",
      "[notice] A new release of pip is available: 24.2 -> 24.3.1\n",
      "[notice] To update, run: python.exe -m pip install --upgrade pip\n"
     ]
    }
   ],
   "source": [
    "pip install matplotlib"
   ]
  },
  {
   "cell_type": "code",
   "execution_count": 5,
   "metadata": {},
   "outputs": [
    {
     "name": "stdout",
     "output_type": "stream",
     "text": [
      "Requirement already satisfied: seaborn in c:\\users\\indhu\\appdata\\local\\programs\\python\\python312\\lib\\site-packages (0.13.2)\n",
      "Requirement already satisfied: numpy!=1.24.0,>=1.20 in c:\\users\\indhu\\appdata\\local\\programs\\python\\python312\\lib\\site-packages (from seaborn) (2.0.0)\n",
      "Requirement already satisfied: pandas>=1.2 in c:\\users\\indhu\\appdata\\local\\programs\\python\\python312\\lib\\site-packages (from seaborn) (2.2.2)\n",
      "Requirement already satisfied: matplotlib!=3.6.1,>=3.4 in c:\\users\\indhu\\appdata\\local\\programs\\python\\python312\\lib\\site-packages (from seaborn) (3.9.1)\n",
      "Requirement already satisfied: contourpy>=1.0.1 in c:\\users\\indhu\\appdata\\local\\programs\\python\\python312\\lib\\site-packages (from matplotlib!=3.6.1,>=3.4->seaborn) (1.2.1)\n",
      "Requirement already satisfied: cycler>=0.10 in c:\\users\\indhu\\appdata\\local\\programs\\python\\python312\\lib\\site-packages (from matplotlib!=3.6.1,>=3.4->seaborn) (0.12.1)\n",
      "Requirement already satisfied: fonttools>=4.22.0 in c:\\users\\indhu\\appdata\\local\\programs\\python\\python312\\lib\\site-packages (from matplotlib!=3.6.1,>=3.4->seaborn) (4.53.1)\n",
      "Requirement already satisfied: kiwisolver>=1.3.1 in c:\\users\\indhu\\appdata\\local\\programs\\python\\python312\\lib\\site-packages (from matplotlib!=3.6.1,>=3.4->seaborn) (1.4.5)\n",
      "Requirement already satisfied: packaging>=20.0 in c:\\users\\indhu\\appdata\\roaming\\python\\python312\\site-packages (from matplotlib!=3.6.1,>=3.4->seaborn) (24.1)\n",
      "Requirement already satisfied: pillow>=8 in c:\\users\\indhu\\appdata\\local\\programs\\python\\python312\\lib\\site-packages (from matplotlib!=3.6.1,>=3.4->seaborn) (10.4.0)\n",
      "Requirement already satisfied: pyparsing>=2.3.1 in c:\\users\\indhu\\appdata\\local\\programs\\python\\python312\\lib\\site-packages (from matplotlib!=3.6.1,>=3.4->seaborn) (3.1.2)\n",
      "Requirement already satisfied: python-dateutil>=2.7 in c:\\users\\indhu\\appdata\\roaming\\python\\python312\\site-packages (from matplotlib!=3.6.1,>=3.4->seaborn) (2.9.0.post0)\n",
      "Requirement already satisfied: pytz>=2020.1 in c:\\users\\indhu\\appdata\\local\\programs\\python\\python312\\lib\\site-packages (from pandas>=1.2->seaborn) (2024.1)\n",
      "Requirement already satisfied: tzdata>=2022.7 in c:\\users\\indhu\\appdata\\local\\programs\\python\\python312\\lib\\site-packages (from pandas>=1.2->seaborn) (2024.1)\n",
      "Requirement already satisfied: six>=1.5 in c:\\users\\indhu\\appdata\\roaming\\python\\python312\\site-packages (from python-dateutil>=2.7->matplotlib!=3.6.1,>=3.4->seaborn) (1.16.0)\n",
      "Note: you may need to restart the kernel to use updated packages.\n"
     ]
    },
    {
     "name": "stderr",
     "output_type": "stream",
     "text": [
      "\n",
      "[notice] A new release of pip is available: 24.2 -> 24.3.1\n",
      "[notice] To update, run: python.exe -m pip install --upgrade pip\n"
     ]
    }
   ],
   "source": [
    "pip install seaborn"
   ]
  },
  {
   "cell_type": "code",
   "execution_count": 6,
   "metadata": {},
   "outputs": [
    {
     "name": "stdout",
     "output_type": "stream",
     "text": [
      "Requirement already satisfied: tensorflow in c:\\users\\indhu\\appdata\\local\\programs\\python\\python312\\lib\\site-packages (2.18.0)\n",
      "Requirement already satisfied: tensorflow-intel==2.18.0 in c:\\users\\indhu\\appdata\\local\\programs\\python\\python312\\lib\\site-packages (from tensorflow) (2.18.0)\n",
      "Requirement already satisfied: absl-py>=1.0.0 in c:\\users\\indhu\\appdata\\local\\programs\\python\\python312\\lib\\site-packages (from tensorflow-intel==2.18.0->tensorflow) (2.1.0)\n",
      "Requirement already satisfied: astunparse>=1.6.0 in c:\\users\\indhu\\appdata\\local\\programs\\python\\python312\\lib\\site-packages (from tensorflow-intel==2.18.0->tensorflow) (1.6.3)\n",
      "Requirement already satisfied: flatbuffers>=24.3.25 in c:\\users\\indhu\\appdata\\local\\programs\\python\\python312\\lib\\site-packages (from tensorflow-intel==2.18.0->tensorflow) (24.3.25)\n",
      "Requirement already satisfied: gast!=0.5.0,!=0.5.1,!=0.5.2,>=0.2.1 in c:\\users\\indhu\\appdata\\local\\programs\\python\\python312\\lib\\site-packages (from tensorflow-intel==2.18.0->tensorflow) (0.6.0)\n",
      "Requirement already satisfied: google-pasta>=0.1.1 in c:\\users\\indhu\\appdata\\local\\programs\\python\\python312\\lib\\site-packages (from tensorflow-intel==2.18.0->tensorflow) (0.2.0)\n",
      "Requirement already satisfied: libclang>=13.0.0 in c:\\users\\indhu\\appdata\\local\\programs\\python\\python312\\lib\\site-packages (from tensorflow-intel==2.18.0->tensorflow) (18.1.1)\n",
      "Requirement already satisfied: opt-einsum>=2.3.2 in c:\\users\\indhu\\appdata\\local\\programs\\python\\python312\\lib\\site-packages (from tensorflow-intel==2.18.0->tensorflow) (3.4.0)\n",
      "Requirement already satisfied: packaging in c:\\users\\indhu\\appdata\\roaming\\python\\python312\\site-packages (from tensorflow-intel==2.18.0->tensorflow) (24.1)\n",
      "Requirement already satisfied: protobuf!=4.21.0,!=4.21.1,!=4.21.2,!=4.21.3,!=4.21.4,!=4.21.5,<6.0.0dev,>=3.20.3 in c:\\users\\indhu\\appdata\\local\\programs\\python\\python312\\lib\\site-packages (from tensorflow-intel==2.18.0->tensorflow) (5.28.3)\n",
      "Requirement already satisfied: requests<3,>=2.21.0 in c:\\users\\indhu\\appdata\\local\\programs\\python\\python312\\lib\\site-packages (from tensorflow-intel==2.18.0->tensorflow) (2.32.3)\n",
      "Requirement already satisfied: setuptools in c:\\users\\indhu\\appdata\\local\\programs\\python\\python312\\lib\\site-packages (from tensorflow-intel==2.18.0->tensorflow) (75.1.0)\n",
      "Requirement already satisfied: six>=1.12.0 in c:\\users\\indhu\\appdata\\roaming\\python\\python312\\site-packages (from tensorflow-intel==2.18.0->tensorflow) (1.16.0)\n",
      "Requirement already satisfied: termcolor>=1.1.0 in c:\\users\\indhu\\appdata\\local\\programs\\python\\python312\\lib\\site-packages (from tensorflow-intel==2.18.0->tensorflow) (2.5.0)\n",
      "Requirement already satisfied: typing-extensions>=3.6.6 in c:\\users\\indhu\\appdata\\local\\programs\\python\\python312\\lib\\site-packages (from tensorflow-intel==2.18.0->tensorflow) (4.12.2)\n",
      "Requirement already satisfied: wrapt>=1.11.0 in c:\\users\\indhu\\appdata\\local\\programs\\python\\python312\\lib\\site-packages (from tensorflow-intel==2.18.0->tensorflow) (1.16.0)\n",
      "Requirement already satisfied: grpcio<2.0,>=1.24.3 in c:\\users\\indhu\\appdata\\local\\programs\\python\\python312\\lib\\site-packages (from tensorflow-intel==2.18.0->tensorflow) (1.67.1)\n",
      "Requirement already satisfied: tensorboard<2.19,>=2.18 in c:\\users\\indhu\\appdata\\local\\programs\\python\\python312\\lib\\site-packages (from tensorflow-intel==2.18.0->tensorflow) (2.18.0)\n",
      "Collecting keras>=3.5.0 (from tensorflow-intel==2.18.0->tensorflow)\n",
      "  Using cached keras-3.7.0-py3-none-any.whl.metadata (5.8 kB)\n",
      "Requirement already satisfied: numpy<2.1.0,>=1.26.0 in c:\\users\\indhu\\appdata\\local\\programs\\python\\python312\\lib\\site-packages (from tensorflow-intel==2.18.0->tensorflow) (2.0.0)\n",
      "Requirement already satisfied: h5py>=3.11.0 in c:\\users\\indhu\\appdata\\local\\programs\\python\\python312\\lib\\site-packages (from tensorflow-intel==2.18.0->tensorflow) (3.12.1)\n",
      "Requirement already satisfied: ml-dtypes<0.5.0,>=0.4.0 in c:\\users\\indhu\\appdata\\local\\programs\\python\\python312\\lib\\site-packages (from tensorflow-intel==2.18.0->tensorflow) (0.4.1)\n",
      "Requirement already satisfied: wheel<1.0,>=0.23.0 in c:\\users\\indhu\\appdata\\local\\programs\\python\\python312\\lib\\site-packages (from astunparse>=1.6.0->tensorflow-intel==2.18.0->tensorflow) (0.44.0)\n",
      "Requirement already satisfied: rich in c:\\users\\indhu\\appdata\\local\\programs\\python\\python312\\lib\\site-packages (from keras>=3.5.0->tensorflow-intel==2.18.0->tensorflow) (13.9.4)\n",
      "Requirement already satisfied: namex in c:\\users\\indhu\\appdata\\local\\programs\\python\\python312\\lib\\site-packages (from keras>=3.5.0->tensorflow-intel==2.18.0->tensorflow) (0.0.8)\n",
      "Requirement already satisfied: optree in c:\\users\\indhu\\appdata\\local\\programs\\python\\python312\\lib\\site-packages (from keras>=3.5.0->tensorflow-intel==2.18.0->tensorflow) (0.13.0)\n",
      "Requirement already satisfied: charset-normalizer<4,>=2 in c:\\users\\indhu\\appdata\\local\\programs\\python\\python312\\lib\\site-packages (from requests<3,>=2.21.0->tensorflow-intel==2.18.0->tensorflow) (3.4.0)\n",
      "Requirement already satisfied: idna<4,>=2.5 in c:\\users\\indhu\\appdata\\local\\programs\\python\\python312\\lib\\site-packages (from requests<3,>=2.21.0->tensorflow-intel==2.18.0->tensorflow) (3.10)\n",
      "Requirement already satisfied: urllib3<3,>=1.21.1 in c:\\users\\indhu\\appdata\\local\\programs\\python\\python312\\lib\\site-packages (from requests<3,>=2.21.0->tensorflow-intel==2.18.0->tensorflow) (2.2.3)\n",
      "Requirement already satisfied: certifi>=2017.4.17 in c:\\users\\indhu\\appdata\\local\\programs\\python\\python312\\lib\\site-packages (from requests<3,>=2.21.0->tensorflow-intel==2.18.0->tensorflow) (2024.8.30)\n",
      "Requirement already satisfied: markdown>=2.6.8 in c:\\users\\indhu\\appdata\\local\\programs\\python\\python312\\lib\\site-packages (from tensorboard<2.19,>=2.18->tensorflow-intel==2.18.0->tensorflow) (3.7)\n",
      "Requirement already satisfied: tensorboard-data-server<0.8.0,>=0.7.0 in c:\\users\\indhu\\appdata\\local\\programs\\python\\python312\\lib\\site-packages (from tensorboard<2.19,>=2.18->tensorflow-intel==2.18.0->tensorflow) (0.7.2)\n",
      "Requirement already satisfied: werkzeug>=1.0.1 in c:\\users\\indhu\\appdata\\local\\programs\\python\\python312\\lib\\site-packages (from tensorboard<2.19,>=2.18->tensorflow-intel==2.18.0->tensorflow) (3.0.3)\n",
      "Requirement already satisfied: MarkupSafe>=2.1.1 in c:\\users\\indhu\\appdata\\local\\programs\\python\\python312\\lib\\site-packages (from werkzeug>=1.0.1->tensorboard<2.19,>=2.18->tensorflow-intel==2.18.0->tensorflow) (2.1.5)\n",
      "Requirement already satisfied: markdown-it-py>=2.2.0 in c:\\users\\indhu\\appdata\\local\\programs\\python\\python312\\lib\\site-packages (from rich->keras>=3.5.0->tensorflow-intel==2.18.0->tensorflow) (3.0.0)\n",
      "Requirement already satisfied: pygments<3.0.0,>=2.13.0 in c:\\users\\indhu\\appdata\\roaming\\python\\python312\\site-packages (from rich->keras>=3.5.0->tensorflow-intel==2.18.0->tensorflow) (2.18.0)\n",
      "Requirement already satisfied: mdurl~=0.1 in c:\\users\\indhu\\appdata\\local\\programs\\python\\python312\\lib\\site-packages (from markdown-it-py>=2.2.0->rich->keras>=3.5.0->tensorflow-intel==2.18.0->tensorflow) (0.1.2)\n",
      "Using cached keras-3.7.0-py3-none-any.whl (1.2 MB)\n",
      "Installing collected packages: keras\n",
      "  Attempting uninstall: keras\n",
      "    Found existing installation: Keras 2.2.4\n",
      "    Uninstalling Keras-2.2.4:\n",
      "      Successfully uninstalled Keras-2.2.4\n",
      "Successfully installed keras-3.7.0\n",
      "Note: you may need to restart the kernel to use updated packages.\n"
     ]
    },
    {
     "name": "stderr",
     "output_type": "stream",
     "text": [
      "\n",
      "[notice] A new release of pip is available: 24.2 -> 24.3.1\n",
      "[notice] To update, run: python.exe -m pip install --upgrade pip\n"
     ]
    }
   ],
   "source": [
    "pip install tensorflow"
   ]
  },
  {
   "cell_type": "code",
   "execution_count": 7,
   "metadata": {},
   "outputs": [
    {
     "name": "stdout",
     "output_type": "stream",
     "text": [
      "Collecting keras==2.2.4Note: you may need to restart the kernel to use updated packages.\n",
      "\n",
      "  Using cached Keras-2.2.4-py2.py3-none-any.whl.metadata (2.2 kB)\n",
      "Requirement already satisfied: numpy>=1.9.1 in c:\\users\\indhu\\appdata\\local\\programs\\python\\python312\\lib\\site-packages (from keras==2.2.4) (2.0.0)\n",
      "Requirement already satisfied: scipy>=0.14 in c:\\users\\indhu\\appdata\\local\\programs\\python\\python312\\lib\\site-packages (from keras==2.2.4) (1.14.0)\n",
      "Requirement already satisfied: six>=1.9.0 in c:\\users\\indhu\\appdata\\roaming\\python\\python312\\site-packages (from keras==2.2.4) (1.16.0)\n",
      "Requirement already satisfied: pyyaml in c:\\users\\indhu\\appdata\\local\\programs\\python\\python312\\lib\\site-packages (from keras==2.2.4) (6.0.2)\n",
      "Requirement already satisfied: h5py in c:\\users\\indhu\\appdata\\local\\programs\\python\\python312\\lib\\site-packages (from keras==2.2.4) (3.12.1)\n",
      "Requirement already satisfied: keras-applications>=1.0.6 in c:\\users\\indhu\\appdata\\local\\programs\\python\\python312\\lib\\site-packages (from keras==2.2.4) (1.0.8)\n",
      "Requirement already satisfied: keras-preprocessing>=1.0.5 in c:\\users\\indhu\\appdata\\local\\programs\\python\\python312\\lib\\site-packages (from keras==2.2.4) (1.1.2)\n",
      "Using cached Keras-2.2.4-py2.py3-none-any.whl (312 kB)\n",
      "Installing collected packages: keras\n",
      "  Attempting uninstall: keras\n",
      "    Found existing installation: keras 3.7.0\n",
      "    Uninstalling keras-3.7.0:\n",
      "      Successfully uninstalled keras-3.7.0\n",
      "Successfully installed keras-2.2.4\n"
     ]
    },
    {
     "name": "stderr",
     "output_type": "stream",
     "text": [
      "ERROR: pip's dependency resolver does not currently take into account all the packages that are installed. This behaviour is the source of the following dependency conflicts.\n",
      "tensorflow-intel 2.18.0 requires keras>=3.5.0, but you have keras 2.2.4 which is incompatible.\n",
      "\n",
      "[notice] A new release of pip is available: 24.2 -> 24.3.1\n",
      "[notice] To update, run: python.exe -m pip install --upgrade pip\n"
     ]
    }
   ],
   "source": [
    "pip install keras==2.2.4"
   ]
  },
  {
   "cell_type": "code",
   "execution_count": 8,
   "metadata": {},
   "outputs": [
    {
     "name": "stdout",
     "output_type": "stream",
     "text": [
      "Requirement already satisfied: opencv.python in c:\\users\\indhu\\appdata\\local\\programs\\python\\python312\\lib\\site-packages (4.10.0.84)\n",
      "Requirement already satisfied: numpy>=1.21.2 in c:\\users\\indhu\\appdata\\local\\programs\\python\\python312\\lib\\site-packages (from opencv.python) (2.0.0)\n",
      "Note: you may need to restart the kernel to use updated packages.\n"
     ]
    },
    {
     "name": "stderr",
     "output_type": "stream",
     "text": [
      "\n",
      "[notice] A new release of pip is available: 24.2 -> 24.3.1\n",
      "[notice] To update, run: python.exe -m pip install --upgrade pip\n"
     ]
    }
   ],
   "source": [
    "pip install opencv.python"
   ]
  },
  {
   "cell_type": "code",
   "execution_count": 9,
   "metadata": {},
   "outputs": [
    {
     "name": "stdout",
     "output_type": "stream",
     "text": [
      "Requirement already satisfied: flask in c:\\users\\indhu\\appdata\\local\\programs\\python\\python312\\lib\\site-packages (3.0.3)Note: you may need to restart the kernel to use updated packages.\n",
      "\n",
      "Requirement already satisfied: Werkzeug>=3.0.0 in c:\\users\\indhu\\appdata\\local\\programs\\python\\python312\\lib\\site-packages (from flask) (3.0.3)\n",
      "Requirement already satisfied: Jinja2>=3.1.2 in c:\\users\\indhu\\appdata\\local\\programs\\python\\python312\\lib\\site-packages (from flask) (3.1.4)\n",
      "Requirement already satisfied: itsdangerous>=2.1.2 in c:\\users\\indhu\\appdata\\local\\programs\\python\\python312\\lib\\site-packages (from flask) (2.2.0)\n",
      "Requirement already satisfied: click>=8.1.3 in c:\\users\\indhu\\appdata\\local\\programs\\python\\python312\\lib\\site-packages (from flask) (8.1.7)\n",
      "Requirement already satisfied: blinker>=1.6.2 in c:\\users\\indhu\\appdata\\local\\programs\\python\\python312\\lib\\site-packages (from flask) (1.8.2)\n",
      "Requirement already satisfied: colorama in c:\\users\\indhu\\appdata\\roaming\\python\\python312\\site-packages (from click>=8.1.3->flask) (0.4.6)\n",
      "Requirement already satisfied: MarkupSafe>=2.0 in c:\\users\\indhu\\appdata\\local\\programs\\python\\python312\\lib\\site-packages (from Jinja2>=3.1.2->flask) (2.1.5)\n"
     ]
    },
    {
     "name": "stderr",
     "output_type": "stream",
     "text": [
      "\n",
      "[notice] A new release of pip is available: 24.2 -> 24.3.1\n",
      "[notice] To update, run: python.exe -m pip install --upgrade pip\n"
     ]
    }
   ],
   "source": [
    "pip install flask"
   ]
  },
  {
   "cell_type": "code",
   "execution_count": 10,
   "metadata": {},
   "outputs": [
    {
     "name": "stdout",
     "output_type": "stream",
     "text": [
      "Requirement already satisfied: prophet in c:\\users\\indhu\\appdata\\local\\programs\\python\\python312\\lib\\site-packages (1.1.6)Note: you may need to restart the kernel to use updated packages.\n",
      "\n",
      "Requirement already satisfied: cmdstanpy>=1.0.4 in c:\\users\\indhu\\appdata\\local\\programs\\python\\python312\\lib\\site-packages (from prophet) (1.2.4)\n",
      "Requirement already satisfied: numpy>=1.15.4 in c:\\users\\indhu\\appdata\\local\\programs\\python\\python312\\lib\\site-packages (from prophet) (2.0.0)\n",
      "Requirement already satisfied: matplotlib>=2.0.0 in c:\\users\\indhu\\appdata\\local\\programs\\python\\python312\\lib\\site-packages (from prophet) (3.9.1)\n",
      "Requirement already satisfied: pandas>=1.0.4 in c:\\users\\indhu\\appdata\\local\\programs\\python\\python312\\lib\\site-packages (from prophet) (2.2.2)\n",
      "Requirement already satisfied: holidays<1,>=0.25 in c:\\users\\indhu\\appdata\\local\\programs\\python\\python312\\lib\\site-packages (from prophet) (0.59)\n",
      "Requirement already satisfied: tqdm>=4.36.1 in c:\\users\\indhu\\appdata\\local\\programs\\python\\python312\\lib\\site-packages (from prophet) (4.66.5)\n",
      "Requirement already satisfied: importlib-resources in c:\\users\\indhu\\appdata\\local\\programs\\python\\python312\\lib\\site-packages (from prophet) (6.4.5)\n",
      "Requirement already satisfied: stanio<2.0.0,>=0.4.0 in c:\\users\\indhu\\appdata\\local\\programs\\python\\python312\\lib\\site-packages (from cmdstanpy>=1.0.4->prophet) (0.5.1)\n",
      "Requirement already satisfied: python-dateutil in c:\\users\\indhu\\appdata\\roaming\\python\\python312\\site-packages (from holidays<1,>=0.25->prophet) (2.9.0.post0)\n",
      "Requirement already satisfied: contourpy>=1.0.1 in c:\\users\\indhu\\appdata\\local\\programs\\python\\python312\\lib\\site-packages (from matplotlib>=2.0.0->prophet) (1.2.1)\n",
      "Requirement already satisfied: cycler>=0.10 in c:\\users\\indhu\\appdata\\local\\programs\\python\\python312\\lib\\site-packages (from matplotlib>=2.0.0->prophet) (0.12.1)\n",
      "Requirement already satisfied: fonttools>=4.22.0 in c:\\users\\indhu\\appdata\\local\\programs\\python\\python312\\lib\\site-packages (from matplotlib>=2.0.0->prophet) (4.53.1)\n",
      "Requirement already satisfied: kiwisolver>=1.3.1 in c:\\users\\indhu\\appdata\\local\\programs\\python\\python312\\lib\\site-packages (from matplotlib>=2.0.0->prophet) (1.4.5)\n",
      "Requirement already satisfied: packaging>=20.0 in c:\\users\\indhu\\appdata\\roaming\\python\\python312\\site-packages (from matplotlib>=2.0.0->prophet) (24.1)\n",
      "Requirement already satisfied: pillow>=8 in c:\\users\\indhu\\appdata\\local\\programs\\python\\python312\\lib\\site-packages (from matplotlib>=2.0.0->prophet) (10.4.0)\n",
      "Requirement already satisfied: pyparsing>=2.3.1 in c:\\users\\indhu\\appdata\\local\\programs\\python\\python312\\lib\\site-packages (from matplotlib>=2.0.0->prophet) (3.1.2)\n",
      "Requirement already satisfied: pytz>=2020.1 in c:\\users\\indhu\\appdata\\local\\programs\\python\\python312\\lib\\site-packages (from pandas>=1.0.4->prophet) (2024.1)\n",
      "Requirement already satisfied: tzdata>=2022.7 in c:\\users\\indhu\\appdata\\local\\programs\\python\\python312\\lib\\site-packages (from pandas>=1.0.4->prophet) (2024.1)\n",
      "Requirement already satisfied: colorama in c:\\users\\indhu\\appdata\\roaming\\python\\python312\\site-packages (from tqdm>=4.36.1->prophet) (0.4.6)\n",
      "Requirement already satisfied: six>=1.5 in c:\\users\\indhu\\appdata\\roaming\\python\\python312\\site-packages (from python-dateutil->holidays<1,>=0.25->prophet) (1.16.0)\n"
     ]
    },
    {
     "name": "stderr",
     "output_type": "stream",
     "text": [
      "\n",
      "[notice] A new release of pip is available: 24.2 -> 24.3.1\n",
      "[notice] To update, run: python.exe -m pip install --upgrade pip\n"
     ]
    }
   ],
   "source": [
    "pip install prophet"
   ]
  },
  {
   "cell_type": "code",
   "execution_count": 11,
   "metadata": {},
   "outputs": [
    {
     "name": "stdout",
     "output_type": "stream",
     "text": [
      "Requirement already satisfied: statsmodels in c:\\users\\indhu\\appdata\\local\\programs\\python\\python312\\lib\\site-packages (0.14.4)\n",
      "Requirement already satisfied: numpy<3,>=1.22.3 in c:\\users\\indhu\\appdata\\local\\programs\\python\\python312\\lib\\site-packages (from statsmodels) (2.0.0)\n",
      "Requirement already satisfied: scipy!=1.9.2,>=1.8 in c:\\users\\indhu\\appdata\\local\\programs\\python\\python312\\lib\\site-packages (from statsmodels) (1.14.0)\n",
      "Requirement already satisfied: pandas!=2.1.0,>=1.4 in c:\\users\\indhu\\appdata\\local\\programs\\python\\python312\\lib\\site-packages (from statsmodels) (2.2.2)\n",
      "Requirement already satisfied: patsy>=0.5.6 in c:\\users\\indhu\\appdata\\local\\programs\\python\\python312\\lib\\site-packages (from statsmodels) (0.5.6)\n",
      "Requirement already satisfied: packaging>=21.3 in c:\\users\\indhu\\appdata\\roaming\\python\\python312\\site-packages (from statsmodels) (24.1)\n",
      "Requirement already satisfied: python-dateutil>=2.8.2 in c:\\users\\indhu\\appdata\\roaming\\python\\python312\\site-packages (from pandas!=2.1.0,>=1.4->statsmodels) (2.9.0.post0)\n",
      "Requirement already satisfied: pytz>=2020.1 in c:\\users\\indhu\\appdata\\local\\programs\\python\\python312\\lib\\site-packages (from pandas!=2.1.0,>=1.4->statsmodels) (2024.1)\n",
      "Requirement already satisfied: tzdata>=2022.7 in c:\\users\\indhu\\appdata\\local\\programs\\python\\python312\\lib\\site-packages (from pandas!=2.1.0,>=1.4->statsmodels) (2024.1)\n",
      "Requirement already satisfied: six in c:\\users\\indhu\\appdata\\roaming\\python\\python312\\site-packages (from patsy>=0.5.6->statsmodels) (1.16.0)\n",
      "Note: you may need to restart the kernel to use updated packages.\n"
     ]
    },
    {
     "name": "stderr",
     "output_type": "stream",
     "text": [
      "\n",
      "[notice] A new release of pip is available: 24.2 -> 24.3.1\n",
      "[notice] To update, run: python.exe -m pip install --upgrade pip\n"
     ]
    }
   ],
   "source": [
    "pip install statsmodels"
   ]
  },
  {
   "cell_type": "code",
   "execution_count": 12,
   "metadata": {},
   "outputs": [
    {
     "name": "stderr",
     "output_type": "stream",
     "text": [
      "Using TensorFlow backend.\n"
     ]
    }
   ],
   "source": [
    "\n",
    "import pandas as pd\n",
    "import numpy as np\n",
    "import matplotlib.pyplot as plt\n",
    "import seaborn as sns\n",
    "import tensorflow as tf\n",
    "from sklearn.model_selection import train_test_split\n",
    "from statsmodels.tsa.arima.model import ARIMA\n",
    "#importing libraries\n",
    "from sklearn.metrics import mean_squared_error\n",
    "import math\n",
    "from statsmodels.graphics.tsaplots import plot_pacf\n",
    "from statsmodels.graphics.tsaplots import plot_acf\n",
    "from statsmodels.tsa.statespace.sarimax import SARIMAX\n",
    "from statsmodels.tsa.holtwinters import ExponentialSmoothing\n",
    "from statsmodels.tsa.stattools import adfuller\n",
    "import matplotlib.pyplot as plt\n",
    "from tqdm import tqdm_notebook\n",
    "import numpy as np\n",
    "import pandas as pd\n",
    "from itertools import product\n",
    "import warnings\n",
    "warnings.filterwarnings(\"ignore\")\n",
    "from sklearn.preprocessing import LabelEncoder"
   ]
  },
  {
   "cell_type": "code",
   "execution_count": 13,
   "metadata": {
    "colab": {
     "base_uri": "https://localhost:8080/",
     "height": 206
    },
    "id": "hVrXB9cUylSP",
    "outputId": "549cefb5-1e53-497b-cff2-dba213ae9878"
   },
   "outputs": [
    {
     "data": {
      "text/html": [
       "<div>\n",
       "<style scoped>\n",
       "    .dataframe tbody tr th:only-of-type {\n",
       "        vertical-align: middle;\n",
       "    }\n",
       "\n",
       "    .dataframe tbody tr th {\n",
       "        vertical-align: top;\n",
       "    }\n",
       "\n",
       "    .dataframe thead th {\n",
       "        text-align: right;\n",
       "    }\n",
       "</style>\n",
       "<table border=\"1\" class=\"dataframe\">\n",
       "  <thead>\n",
       "    <tr style=\"text-align: right;\">\n",
       "      <th></th>\n",
       "      <th>Area</th>\n",
       "      <th>Year</th>\n",
       "      <th>Unit</th>\n",
       "      <th>Value</th>\n",
       "      <th>Flag</th>\n",
       "      <th>Flag Description</th>\n",
       "    </tr>\n",
       "  </thead>\n",
       "  <tbody>\n",
       "    <tr>\n",
       "      <th>0</th>\n",
       "      <td>Afghanistan</td>\n",
       "      <td>1961</td>\n",
       "      <td>tonnes</td>\n",
       "      <td>319000.0</td>\n",
       "      <td>A</td>\n",
       "      <td>Official figure</td>\n",
       "    </tr>\n",
       "    <tr>\n",
       "      <th>1</th>\n",
       "      <td>Afghanistan</td>\n",
       "      <td>1962</td>\n",
       "      <td>tonnes</td>\n",
       "      <td>319000.0</td>\n",
       "      <td>A</td>\n",
       "      <td>Official figure</td>\n",
       "    </tr>\n",
       "    <tr>\n",
       "      <th>2</th>\n",
       "      <td>Afghanistan</td>\n",
       "      <td>1963</td>\n",
       "      <td>tonnes</td>\n",
       "      <td>319000.0</td>\n",
       "      <td>A</td>\n",
       "      <td>Official figure</td>\n",
       "    </tr>\n",
       "    <tr>\n",
       "      <th>3</th>\n",
       "      <td>Afghanistan</td>\n",
       "      <td>1964</td>\n",
       "      <td>tonnes</td>\n",
       "      <td>380000.0</td>\n",
       "      <td>A</td>\n",
       "      <td>Official figure</td>\n",
       "    </tr>\n",
       "    <tr>\n",
       "      <th>4</th>\n",
       "      <td>Afghanistan</td>\n",
       "      <td>1965</td>\n",
       "      <td>tonnes</td>\n",
       "      <td>380000.0</td>\n",
       "      <td>A</td>\n",
       "      <td>Official figure</td>\n",
       "    </tr>\n",
       "  </tbody>\n",
       "</table>\n",
       "</div>"
      ],
      "text/plain": [
       "          Area  Year    Unit     Value Flag Flag Description\n",
       "0  Afghanistan  1961  tonnes  319000.0    A  Official figure\n",
       "1  Afghanistan  1962  tonnes  319000.0    A  Official figure\n",
       "2  Afghanistan  1963  tonnes  319000.0    A  Official figure\n",
       "3  Afghanistan  1964  tonnes  380000.0    A  Official figure\n",
       "4  Afghanistan  1965  tonnes  380000.0    A  Official figure"
      ]
     },
     "execution_count": 13,
     "metadata": {},
     "output_type": "execute_result"
    }
   ],
   "source": [
    "\n",
    "df = pd.read_csv('rice production across different countries from 1961 to 2021.csv')\n",
    "df.head()"
   ]
  },
  {
   "cell_type": "code",
   "execution_count": 14,
   "metadata": {
    "colab": {
     "base_uri": "https://localhost:8080/"
    },
    "id": "dD4w9ehhymDN",
    "outputId": "0914eec2-b8fe-4701-c878-a2ad49cf545c"
   },
   "outputs": [
    {
     "name": "stdout",
     "output_type": "stream",
     "text": [
      "<class 'pandas.core.frame.DataFrame'>\n",
      "RangeIndex: 7324 entries, 0 to 7323\n",
      "Data columns (total 6 columns):\n",
      " #   Column            Non-Null Count  Dtype  \n",
      "---  ------            --------------  -----  \n",
      " 0   Area              7324 non-null   object \n",
      " 1   Year              7324 non-null   int64  \n",
      " 2   Unit              7324 non-null   object \n",
      " 3   Value             7324 non-null   float64\n",
      " 4   Flag              7324 non-null   object \n",
      " 5   Flag Description  7324 non-null   object \n",
      "dtypes: float64(1), int64(1), object(4)\n",
      "memory usage: 343.4+ KB\n"
     ]
    }
   ],
   "source": [
    "df.info()"
   ]
  },
  {
   "cell_type": "code",
   "execution_count": 15,
   "metadata": {
    "colab": {
     "base_uri": "https://localhost:8080/"
    },
    "id": "DCr-0Pej06rP",
    "outputId": "b66d2f23-eb60-44ce-b5e6-029598c987bf"
   },
   "outputs": [
    {
     "name": "stdout",
     "output_type": "stream",
     "text": [
      "<class 'pandas.core.frame.DataFrame'>\n",
      "RangeIndex: 7324 entries, 0 to 7323\n",
      "Data columns (total 6 columns):\n",
      " #   Column            Non-Null Count  Dtype  \n",
      "---  ------            --------------  -----  \n",
      " 0   Area              7324 non-null   int64  \n",
      " 1   Year              7324 non-null   int64  \n",
      " 2   Unit              7324 non-null   int64  \n",
      " 3   Value             7324 non-null   float64\n",
      " 4   Flag              7324 non-null   int64  \n",
      " 5   Flag Description  7324 non-null   int64  \n",
      "dtypes: float64(1), int64(5)\n",
      "memory usage: 343.4 KB\n"
     ]
    }
   ],
   "source": [
    "le=LabelEncoder()\n",
    "df['Area']=le.fit_transform(df['Area'])\n",
    "df['Flag Description']=le.fit_transform(df['Flag Description'])\n",
    "df['Unit']=le.fit_transform(df['Unit'])\n",
    "df['Flag']=le.fit_transform(df['Flag'])\n",
    "df.info()"
   ]
  },
  {
   "cell_type": "code",
   "execution_count": 16,
   "metadata": {
    "colab": {
     "base_uri": "https://localhost:8080/",
     "height": 272
    },
    "id": "A9dGSeHO06us",
    "outputId": "05a6d859-fa55-4bef-8b28-77c9b9ef2590"
   },
   "outputs": [
    {
     "data": {
      "text/plain": [
       "Area                0\n",
       "Year                0\n",
       "Unit                0\n",
       "Value               0\n",
       "Flag                0\n",
       "Flag Description    0\n",
       "dtype: int64"
      ]
     },
     "execution_count": 16,
     "metadata": {},
     "output_type": "execute_result"
    }
   ],
   "source": [
    "df.isnull().sum()"
   ]
  },
  {
   "cell_type": "code",
   "execution_count": 18,
   "metadata": {
    "colab": {
     "base_uri": "https://localhost:8080/",
     "height": 458
    },
    "id": "zcja5GWT0676",
    "outputId": "887fd531-9de5-4ac6-96e5-4194835c27b4"
   },
   "outputs": [
    {
     "data": {
      "text/plain": [
       "0      1961-01-01\n",
       "1      1962-01-01\n",
       "2      1963-01-01\n",
       "3      1964-01-01\n",
       "4      1965-01-01\n",
       "          ...    \n",
       "7319   2017-01-01\n",
       "7320   2018-01-01\n",
       "7321   2019-01-01\n",
       "7322   2020-01-01\n",
       "7323   2021-01-01\n",
       "Name: Year, Length: 7324, dtype: datetime64[ns]"
      ]
     },
     "execution_count": 18,
     "metadata": {},
     "output_type": "execute_result"
    }
   ],
   "source": [
    "type(df['Year'][0])\n",
    "dates= pd.to_datetime(df['Year'].astype(str))\n",
    "dates"
   ]
  },
  {
   "cell_type": "code",
   "execution_count": 19,
   "metadata": {
    "colab": {
     "base_uri": "https://localhost:8080/"
    },
    "id": "PHYkjZNe7Bve",
    "outputId": "e7786f7e-15f7-404a-f4ad-928531a09210"
   },
   "outputs": [
    {
     "data": {
      "text/plain": [
       "pandas._libs.tslibs.timestamps.Timestamp"
      ]
     },
     "execution_count": 19,
     "metadata": {},
     "output_type": "execute_result"
    }
   ],
   "source": [
    "type(dates[0])"
   ]
  },
  {
   "cell_type": "code",
   "execution_count": 20,
   "metadata": {
    "colab": {
     "base_uri": "https://localhost:8080/",
     "height": 423
    },
    "id": "uDCxv6_e7Ytt",
    "outputId": "69382202-239d-4fb7-e99b-938a4d00ea75"
   },
   "outputs": [
    {
     "data": {
      "text/html": [
       "<div>\n",
       "<style scoped>\n",
       "    .dataframe tbody tr th:only-of-type {\n",
       "        vertical-align: middle;\n",
       "    }\n",
       "\n",
       "    .dataframe tbody tr th {\n",
       "        vertical-align: top;\n",
       "    }\n",
       "\n",
       "    .dataframe thead th {\n",
       "        text-align: right;\n",
       "    }\n",
       "</style>\n",
       "<table border=\"1\" class=\"dataframe\">\n",
       "  <thead>\n",
       "    <tr style=\"text-align: right;\">\n",
       "      <th></th>\n",
       "      <th>ds</th>\n",
       "      <th>y</th>\n",
       "    </tr>\n",
       "  </thead>\n",
       "  <tbody>\n",
       "    <tr>\n",
       "      <th>0</th>\n",
       "      <td>1961-01-01</td>\n",
       "      <td>319000.00</td>\n",
       "    </tr>\n",
       "    <tr>\n",
       "      <th>1</th>\n",
       "      <td>1962-01-01</td>\n",
       "      <td>319000.00</td>\n",
       "    </tr>\n",
       "    <tr>\n",
       "      <th>2</th>\n",
       "      <td>1963-01-01</td>\n",
       "      <td>319000.00</td>\n",
       "    </tr>\n",
       "    <tr>\n",
       "      <th>3</th>\n",
       "      <td>1964-01-01</td>\n",
       "      <td>380000.00</td>\n",
       "    </tr>\n",
       "    <tr>\n",
       "      <th>4</th>\n",
       "      <td>1965-01-01</td>\n",
       "      <td>380000.00</td>\n",
       "    </tr>\n",
       "    <tr>\n",
       "      <th>...</th>\n",
       "      <td>...</td>\n",
       "      <td>...</td>\n",
       "    </tr>\n",
       "    <tr>\n",
       "      <th>7319</th>\n",
       "      <td>2017-01-01</td>\n",
       "      <td>1326.90</td>\n",
       "    </tr>\n",
       "    <tr>\n",
       "      <th>7320</th>\n",
       "      <td>2018-01-01</td>\n",
       "      <td>1342.47</td>\n",
       "    </tr>\n",
       "    <tr>\n",
       "      <th>7321</th>\n",
       "      <td>2019-01-01</td>\n",
       "      <td>1134.00</td>\n",
       "    </tr>\n",
       "    <tr>\n",
       "      <th>7322</th>\n",
       "      <td>2020-01-01</td>\n",
       "      <td>750.00</td>\n",
       "    </tr>\n",
       "    <tr>\n",
       "      <th>7323</th>\n",
       "      <td>2021-01-01</td>\n",
       "      <td>2908.00</td>\n",
       "    </tr>\n",
       "  </tbody>\n",
       "</table>\n",
       "<p>7324 rows × 2 columns</p>\n",
       "</div>"
      ],
      "text/plain": [
       "             ds          y\n",
       "0    1961-01-01  319000.00\n",
       "1    1962-01-01  319000.00\n",
       "2    1963-01-01  319000.00\n",
       "3    1964-01-01  380000.00\n",
       "4    1965-01-01  380000.00\n",
       "...         ...        ...\n",
       "7319 2017-01-01    1326.90\n",
       "7320 2018-01-01    1342.47\n",
       "7321 2019-01-01    1134.00\n",
       "7322 2020-01-01     750.00\n",
       "7323 2021-01-01    2908.00\n",
       "\n",
       "[7324 rows x 2 columns]"
      ]
     },
     "execution_count": 20,
     "metadata": {},
     "output_type": "execute_result"
    }
   ],
   "source": [
    "new=pd.DataFrame()\n",
    "new['ds']=dates\n",
    "new['y']=df['Value']\n",
    "new"
   ]
  },
  {
   "cell_type": "code",
   "execution_count": 21,
   "metadata": {
    "colab": {
     "base_uri": "https://localhost:8080/",
     "height": 455
    },
    "id": "tnlhY7Pg7Yw2",
    "outputId": "113d7262-cbf5-445f-b575-267e3a8f905a"
   },
   "outputs": [
    {
     "data": {
      "text/html": [
       "<div>\n",
       "<style scoped>\n",
       "    .dataframe tbody tr th:only-of-type {\n",
       "        vertical-align: middle;\n",
       "    }\n",
       "\n",
       "    .dataframe tbody tr th {\n",
       "        vertical-align: top;\n",
       "    }\n",
       "\n",
       "    .dataframe thead th {\n",
       "        text-align: right;\n",
       "    }\n",
       "</style>\n",
       "<table border=\"1\" class=\"dataframe\">\n",
       "  <thead>\n",
       "    <tr style=\"text-align: right;\">\n",
       "      <th></th>\n",
       "      <th>y</th>\n",
       "    </tr>\n",
       "    <tr>\n",
       "      <th>ds</th>\n",
       "      <th></th>\n",
       "    </tr>\n",
       "  </thead>\n",
       "  <tbody>\n",
       "    <tr>\n",
       "      <th>1961-12-31</th>\n",
       "      <td>2.494167e+06</td>\n",
       "    </tr>\n",
       "    <tr>\n",
       "      <th>1962-12-31</th>\n",
       "      <td>2.680106e+06</td>\n",
       "    </tr>\n",
       "    <tr>\n",
       "      <th>1963-12-31</th>\n",
       "      <td>2.968427e+06</td>\n",
       "    </tr>\n",
       "    <tr>\n",
       "      <th>1964-12-31</th>\n",
       "      <td>3.170752e+06</td>\n",
       "    </tr>\n",
       "    <tr>\n",
       "      <th>1965-12-31</th>\n",
       "      <td>3.134230e+06</td>\n",
       "    </tr>\n",
       "    <tr>\n",
       "      <th>...</th>\n",
       "      <td>...</td>\n",
       "    </tr>\n",
       "    <tr>\n",
       "      <th>2017-12-31</th>\n",
       "      <td>7.663097e+06</td>\n",
       "    </tr>\n",
       "    <tr>\n",
       "      <th>2018-12-31</th>\n",
       "      <td>6.771557e+06</td>\n",
       "    </tr>\n",
       "    <tr>\n",
       "      <th>2019-12-31</th>\n",
       "      <td>6.699247e+06</td>\n",
       "    </tr>\n",
       "    <tr>\n",
       "      <th>2020-12-31</th>\n",
       "      <td>6.825269e+06</td>\n",
       "    </tr>\n",
       "    <tr>\n",
       "      <th>2021-12-31</th>\n",
       "      <td>6.956234e+06</td>\n",
       "    </tr>\n",
       "  </tbody>\n",
       "</table>\n",
       "<p>61 rows × 1 columns</p>\n",
       "</div>"
      ],
      "text/plain": [
       "                       y\n",
       "ds                      \n",
       "1961-12-31  2.494167e+06\n",
       "1962-12-31  2.680106e+06\n",
       "1963-12-31  2.968427e+06\n",
       "1964-12-31  3.170752e+06\n",
       "1965-12-31  3.134230e+06\n",
       "...                  ...\n",
       "2017-12-31  7.663097e+06\n",
       "2018-12-31  6.771557e+06\n",
       "2019-12-31  6.699247e+06\n",
       "2020-12-31  6.825269e+06\n",
       "2021-12-31  6.956234e+06\n",
       "\n",
       "[61 rows x 1 columns]"
      ]
     },
     "execution_count": 21,
     "metadata": {},
     "output_type": "execute_result"
    }
   ],
   "source": [
    "#set year column as index\n",
    "new.set_index('ds',inplace=True)\n",
    "#resample to annual frequency\n",
    "new=new.resample('A').mean()\n",
    "new"
   ]
  },
  {
   "cell_type": "code",
   "execution_count": 22,
   "metadata": {
    "colab": {
     "base_uri": "https://localhost:8080/",
     "height": 455
    },
    "id": "Em5ipRzQ7Y0U",
    "outputId": "964329fc-e2b1-4797-95eb-40c92f638d9b"
   },
   "outputs": [
    {
     "data": {
      "text/html": [
       "<div>\n",
       "<style scoped>\n",
       "    .dataframe tbody tr th:only-of-type {\n",
       "        vertical-align: middle;\n",
       "    }\n",
       "\n",
       "    .dataframe tbody tr th {\n",
       "        vertical-align: top;\n",
       "    }\n",
       "\n",
       "    .dataframe thead th {\n",
       "        text-align: right;\n",
       "    }\n",
       "</style>\n",
       "<table border=\"1\" class=\"dataframe\">\n",
       "  <thead>\n",
       "    <tr style=\"text-align: right;\">\n",
       "      <th></th>\n",
       "      <th>y</th>\n",
       "      <th>ds</th>\n",
       "    </tr>\n",
       "    <tr>\n",
       "      <th>ds</th>\n",
       "      <th></th>\n",
       "      <th></th>\n",
       "    </tr>\n",
       "  </thead>\n",
       "  <tbody>\n",
       "    <tr>\n",
       "      <th>1961-12-31</th>\n",
       "      <td>2.494167e+06</td>\n",
       "      <td>1961-12-31</td>\n",
       "    </tr>\n",
       "    <tr>\n",
       "      <th>1962-12-31</th>\n",
       "      <td>2.680106e+06</td>\n",
       "      <td>1962-12-31</td>\n",
       "    </tr>\n",
       "    <tr>\n",
       "      <th>1963-12-31</th>\n",
       "      <td>2.968427e+06</td>\n",
       "      <td>1963-12-31</td>\n",
       "    </tr>\n",
       "    <tr>\n",
       "      <th>1964-12-31</th>\n",
       "      <td>3.170752e+06</td>\n",
       "      <td>1964-12-31</td>\n",
       "    </tr>\n",
       "    <tr>\n",
       "      <th>1965-12-31</th>\n",
       "      <td>3.134230e+06</td>\n",
       "      <td>1965-12-31</td>\n",
       "    </tr>\n",
       "    <tr>\n",
       "      <th>...</th>\n",
       "      <td>...</td>\n",
       "      <td>...</td>\n",
       "    </tr>\n",
       "    <tr>\n",
       "      <th>2017-12-31</th>\n",
       "      <td>7.663097e+06</td>\n",
       "      <td>2017-12-31</td>\n",
       "    </tr>\n",
       "    <tr>\n",
       "      <th>2018-12-31</th>\n",
       "      <td>6.771557e+06</td>\n",
       "      <td>2018-12-31</td>\n",
       "    </tr>\n",
       "    <tr>\n",
       "      <th>2019-12-31</th>\n",
       "      <td>6.699247e+06</td>\n",
       "      <td>2019-12-31</td>\n",
       "    </tr>\n",
       "    <tr>\n",
       "      <th>2020-12-31</th>\n",
       "      <td>6.825269e+06</td>\n",
       "      <td>2020-12-31</td>\n",
       "    </tr>\n",
       "    <tr>\n",
       "      <th>2021-12-31</th>\n",
       "      <td>6.956234e+06</td>\n",
       "      <td>2021-12-31</td>\n",
       "    </tr>\n",
       "  </tbody>\n",
       "</table>\n",
       "<p>61 rows × 2 columns</p>\n",
       "</div>"
      ],
      "text/plain": [
       "                       y         ds\n",
       "ds                                 \n",
       "1961-12-31  2.494167e+06 1961-12-31\n",
       "1962-12-31  2.680106e+06 1962-12-31\n",
       "1963-12-31  2.968427e+06 1963-12-31\n",
       "1964-12-31  3.170752e+06 1964-12-31\n",
       "1965-12-31  3.134230e+06 1965-12-31\n",
       "...                  ...        ...\n",
       "2017-12-31  7.663097e+06 2017-12-31\n",
       "2018-12-31  6.771557e+06 2018-12-31\n",
       "2019-12-31  6.699247e+06 2019-12-31\n",
       "2020-12-31  6.825269e+06 2020-12-31\n",
       "2021-12-31  6.956234e+06 2021-12-31\n",
       "\n",
       "[61 rows x 2 columns]"
      ]
     },
     "execution_count": 22,
     "metadata": {},
     "output_type": "execute_result"
    }
   ],
   "source": [
    "new ['ds'] = new.index\n",
    "new"
   ]
  },
  {
   "cell_type": "code",
   "execution_count": 23,
   "metadata": {
    "colab": {
     "base_uri": "https://localhost:8080/"
    },
    "id": "Ejt0Mhwm7Y63",
    "outputId": "4de234ef-b5a7-4aaa-871e-58896647507f"
   },
   "outputs": [
    {
     "name": "stdout",
     "output_type": "stream",
     "text": [
      "\n",
      "DataFrame after filling missing values with constant:\n",
      "      Area  Year  Unit      Value  Flag  Flag Description\n",
      "0        0  1961     0  319000.00     0                 3\n",
      "1        0  1962     0  319000.00     0                 3\n",
      "2        0  1963     0  319000.00     0                 3\n",
      "3        0  1964     0  380000.00     0                 3\n",
      "4        0  1965     0  380000.00     0                 3\n",
      "...    ...   ...   ...        ...   ...               ...\n",
      "7319   148  2017     0    1326.90     2                 1\n",
      "7320   148  2018     0    1342.47     2                 1\n",
      "7321   148  2019     0    1134.00     0                 3\n",
      "7322   148  2020     0     750.00     1                 0\n",
      "7323   148  2021     0    2908.00     0                 3\n",
      "\n",
      "[7324 rows x 6 columns]\n"
     ]
    }
   ],
   "source": [
    "df = df.fillna(0)\n",
    "\n",
    "\n",
    "# Display the DataFrame after filling missing values\n",
    "print(\"\\nDataFrame after filling missing values with constant:\")\n",
    "print(df)"
   ]
  },
  {
   "cell_type": "code",
   "execution_count": 24,
   "metadata": {
    "colab": {
     "base_uri": "https://localhost:8080/",
     "height": 300
    },
    "id": "7s3NPH8V7Y-f",
    "outputId": "fdc52a09-809a-40b0-8414-c55567d5bc13"
   },
   "outputs": [
    {
     "data": {
      "text/html": [
       "<div>\n",
       "<style scoped>\n",
       "    .dataframe tbody tr th:only-of-type {\n",
       "        vertical-align: middle;\n",
       "    }\n",
       "\n",
       "    .dataframe tbody tr th {\n",
       "        vertical-align: top;\n",
       "    }\n",
       "\n",
       "    .dataframe thead th {\n",
       "        text-align: right;\n",
       "    }\n",
       "</style>\n",
       "<table border=\"1\" class=\"dataframe\">\n",
       "  <thead>\n",
       "    <tr style=\"text-align: right;\">\n",
       "      <th></th>\n",
       "      <th>Area</th>\n",
       "      <th>Year</th>\n",
       "      <th>Unit</th>\n",
       "      <th>Value</th>\n",
       "      <th>Flag</th>\n",
       "      <th>Flag Description</th>\n",
       "    </tr>\n",
       "  </thead>\n",
       "  <tbody>\n",
       "    <tr>\n",
       "      <th>count</th>\n",
       "      <td>7324.000000</td>\n",
       "      <td>7324.000000</td>\n",
       "      <td>7324.0</td>\n",
       "      <td>7.324000e+03</td>\n",
       "      <td>7324.000000</td>\n",
       "      <td>7324.000000</td>\n",
       "    </tr>\n",
       "    <tr>\n",
       "      <th>mean</th>\n",
       "      <td>72.055844</td>\n",
       "      <td>1992.190470</td>\n",
       "      <td>0.0</td>\n",
       "      <td>5.593586e+06</td>\n",
       "      <td>0.328099</td>\n",
       "      <td>2.723785</td>\n",
       "    </tr>\n",
       "    <tr>\n",
       "      <th>std</th>\n",
       "      <td>43.631159</td>\n",
       "      <td>17.675328</td>\n",
       "      <td>0.0</td>\n",
       "      <td>2.439717e+07</td>\n",
       "      <td>0.882761</td>\n",
       "      <td>0.865550</td>\n",
       "    </tr>\n",
       "    <tr>\n",
       "      <th>min</th>\n",
       "      <td>0.000000</td>\n",
       "      <td>1961.000000</td>\n",
       "      <td>0.0</td>\n",
       "      <td>0.000000e+00</td>\n",
       "      <td>0.000000</td>\n",
       "      <td>0.000000</td>\n",
       "    </tr>\n",
       "    <tr>\n",
       "      <th>25%</th>\n",
       "      <td>32.000000</td>\n",
       "      <td>1977.000000</td>\n",
       "      <td>0.0</td>\n",
       "      <td>1.409250e+04</td>\n",
       "      <td>0.000000</td>\n",
       "      <td>3.000000</td>\n",
       "    </tr>\n",
       "    <tr>\n",
       "      <th>50%</th>\n",
       "      <td>70.000000</td>\n",
       "      <td>1993.000000</td>\n",
       "      <td>0.0</td>\n",
       "      <td>1.202430e+05</td>\n",
       "      <td>0.000000</td>\n",
       "      <td>3.000000</td>\n",
       "    </tr>\n",
       "    <tr>\n",
       "      <th>75%</th>\n",
       "      <td>109.000000</td>\n",
       "      <td>2008.000000</td>\n",
       "      <td>0.0</td>\n",
       "      <td>9.817132e+05</td>\n",
       "      <td>0.000000</td>\n",
       "      <td>3.000000</td>\n",
       "    </tr>\n",
       "    <tr>\n",
       "      <th>max</th>\n",
       "      <td>148.000000</td>\n",
       "      <td>2021.000000</td>\n",
       "      <td>0.0</td>\n",
       "      <td>2.144299e+08</td>\n",
       "      <td>4.000000</td>\n",
       "      <td>4.000000</td>\n",
       "    </tr>\n",
       "  </tbody>\n",
       "</table>\n",
       "</div>"
      ],
      "text/plain": [
       "              Area         Year    Unit         Value         Flag  \\\n",
       "count  7324.000000  7324.000000  7324.0  7.324000e+03  7324.000000   \n",
       "mean     72.055844  1992.190470     0.0  5.593586e+06     0.328099   \n",
       "std      43.631159    17.675328     0.0  2.439717e+07     0.882761   \n",
       "min       0.000000  1961.000000     0.0  0.000000e+00     0.000000   \n",
       "25%      32.000000  1977.000000     0.0  1.409250e+04     0.000000   \n",
       "50%      70.000000  1993.000000     0.0  1.202430e+05     0.000000   \n",
       "75%     109.000000  2008.000000     0.0  9.817132e+05     0.000000   \n",
       "max     148.000000  2021.000000     0.0  2.144299e+08     4.000000   \n",
       "\n",
       "       Flag Description  \n",
       "count       7324.000000  \n",
       "mean           2.723785  \n",
       "std            0.865550  \n",
       "min            0.000000  \n",
       "25%            3.000000  \n",
       "50%            3.000000  \n",
       "75%            3.000000  \n",
       "max            4.000000  "
      ]
     },
     "execution_count": 24,
     "metadata": {},
     "output_type": "execute_result"
    }
   ],
   "source": [
    "df.describe(include='all')"
   ]
  },
  {
   "cell_type": "code",
   "execution_count": 25,
   "metadata": {
    "colab": {
     "base_uri": "https://localhost:8080/"
    },
    "id": "EpXGjvN6LWU0",
    "outputId": "67167a83-708c-459b-aba0-449dfe47bc6e"
   },
   "outputs": [
    {
     "name": "stdout",
     "output_type": "stream",
     "text": [
      "unique Values of Area : 149\n",
      "unique Values of Year : 61\n",
      "unique Values of Unit : 1\n",
      "unique Values of Flag : 5\n",
      "unique Values of Flag Description : 5\n"
     ]
    }
   ],
   "source": [
    "for i in df.drop(columns=['Value']).columns:\n",
    "    print('unique Values of' ,i ,':',len(list(df[i].unique())))"
   ]
  },
  {
   "cell_type": "code",
   "execution_count": 26,
   "metadata": {
    "colab": {
     "base_uri": "https://localhost:8080/",
     "height": 522
    },
    "id": "KE41tOnXLWYK",
    "outputId": "07fb8f65-54c9-476c-eb61-f377205fe3c1"
   },
   "outputs": [
    {
     "data": {
      "text/plain": [
       "(array([657., 674., 678., 674., 681., 742., 756., 755., 753., 954.]),\n",
       " array([1961., 1967., 1973., 1979., 1985., 1991., 1997., 2003., 2009.,\n",
       "        2015., 2021.]),\n",
       " <BarContainer object of 10 artists>)"
      ]
     },
     "execution_count": 26,
     "metadata": {},
     "output_type": "execute_result"
    }
   ],
   "source": [
    "plt.figure(figsize=(10,5))\n",
    "plt.hist(df['Year'],rwidth=0.7)"
   ]
  },
  {
   "cell_type": "code",
   "execution_count": 27,
   "metadata": {
    "colab": {
     "base_uri": "https://localhost:8080/",
     "height": 393
    },
    "id": "dOYrxfBCN6wn",
    "outputId": "6bba2c1d-0660-4489-9389-44746b683203"
   },
   "outputs": [
    {
     "data": {
      "image/png": "[encoded data removed]",
      "text/plain": [
       "<Figure size 1000x500 with 1 Axes>"
      ]
     },
     "metadata": {},
     "output_type": "display_data"
    },
    {
     "data": {
      "image/png": "[encoded data removed]",
      "text/plain": [
       "<Figure size 1500x500 with 1 Axes>"
      ]
     },
     "metadata": {},
     "output_type": "display_data"
    }
   ],
   "source": [
    "plt.figure(figsize=(15,5))\n",
    "sns.scatterplot(x='ds', y='y', data=new) # Pass 'ds' and 'y' as keyword arguments and provide the data source\n",
    "plt.show()"
   ]
  },
  {
   "cell_type": "code",
   "execution_count": 28,
   "metadata": {
    "colab": {
     "base_uri": "https://localhost:8080/",
     "height": 439
    },
    "id": "rJR1ooOOOkWP",
    "outputId": "2893e137-ff8f-45e1-ac8d-dd5353b673cd"
   },
   "outputs": [
    {
     "data": {
      "image/png": "[encoded data removed]",
      "text/plain": [
       "<Figure size 2500x1000 with 1 Axes>"
      ]
     },
     "metadata": {},
     "output_type": "display_data"
    }
   ],
   "source": [
    "plt.figure(figsize=(25,10))\n",
    "plt.xticks(rotation=90)\n",
    "sns.barplot(x=df.Area, y=df.Value) # Pass 'x' and 'y' as keyword arguments\n",
    "plt.show()"
   ]
  },
  {
   "cell_type": "code",
   "execution_count": 29,
   "metadata": {
    "colab": {
     "base_uri": "https://localhost:8080/"
    },
    "id": "TsapT616OCbq",
    "outputId": "3330d8a2-1bd7-423f-b37b-6da762700926"
   },
   "outputs": [
    {
     "name": "stdout",
     "output_type": "stream",
     "text": [
      "(48,)\n",
      "(13,)\n"
     ]
    }
   ],
   "source": [
    "# Split data into training and testing sets\n",
    "train_size = int(len(new) * 0.8)\n",
    "train, test = new['y'].iloc[:train_size], new['y'].iloc[train_size:]\n",
    "print (train.shape)\n",
    "print(test.shape)"
   ]
  },
  {
   "cell_type": "code",
   "execution_count": 30,
   "metadata": {
    "colab": {
     "base_uri": "https://localhost:8080/",
     "height": 609
    },
    "id": "ChT6tt2KGAD8",
    "outputId": "5e2a8c1f-381b-4c4c-8373-9342d346f503"
   },
   "outputs": [
    {
     "name": "stdout",
     "output_type": "stream",
     "text": [
      "MAE: 7215059.739392\n",
      "R2_Score: -523.1234227590546\n"
     ]
    },
    {
     "data": {
      "image/png": "[encoded data removed]",
      "text/plain": [
       "<Figure size 1500x800 with 1 Axes>"
      ]
     },
     "metadata": {},
     "output_type": "display_data"
    }
   ],
   "source": [
    "from sklearn.metrics import mean_absolute_error, r2_score\n",
    "import matplotlib.pyplot as plt\n",
    "\n",
    "# Assuming you have a model named 'your_model' and test data 'your_test_data'\n",
    "# If not, replace them with your actual model and data.\n",
    "# Example: predictions = your_model.predict(your_test_data)\n",
    "\n",
    "# Replace this with your model prediction logic:\n",
    "# For demonstration, I'm creating random predictions.\n",
    "# Please ensure you have defined and trained your model correctly.\n",
    "import numpy as np\n",
    "predictions = np.random.rand(len(test)) * 10  # Replace with your actual prediction logic\n",
    "\n",
    "\n",
    "# Assuming 'test', 'predictions', and 'train' are already defined\n",
    "# Calculate MAE and R2 score\n",
    "mae = mean_absolute_error(test, predictions)\n",
    "r2 = r2_score(test, predictions)\n",
    "\n",
    "print(\"MAE: %2f\" % mae)\n",
    "print(\"R2_Score:\", r2)\n",
    "\n",
    "# Plot predictions and actual values\n",
    "plt.figure(figsize=(15, 8))\n",
    "plt.plot(train, label='Train')  # Label for the training data\n",
    "plt.plot(test, label='Test')   # Label for the actual test data\n",
    "plt.plot(predictions, color='red', label='Predictions')  # Label for predictions\n",
    "plt.legend()\n",
    "plt.show()"
   ]
  },
  {
   "cell_type": "code",
   "execution_count": 31,
   "metadata": {
    "colab": {
     "base_uri": "https://localhost:8080/"
    },
    "id": "kBOpoWSkU0rQ",
    "outputId": "4c78b236-31d7-4315-c7ed-eb8c31917962"
   },
   "outputs": [
    {
     "name": "stdout",
     "output_type": "stream",
     "text": [
      "(0, 0, 0) MAE: 1470.7437683209869\n",
      "(0, 0, 1) MAE: 1449.149787698572\n",
      "(0, 0, 2) MAE: 1421.740809823649\n",
      "(0, 1, 0) MAE: 568.0192673267467\n",
      "(0, 1, 1) MAE: 561.7140241109017\n",
      "(0, 1, 2) MAE: 546.4710852767995\n",
      "(0, 2, 0) MAE: 1357.7357304259974\n",
      "(0, 2, 1) MAE: 1320.5739096142129\n",
      "(0, 2, 2) MAE: 1179.4161549705568\n",
      "(1, 0, 0) MAE: 569.9200754175704\n",
      "(1, 0, 1) MAE: 552.8654412398556\n",
      "(1, 0, 2) MAE: 525.8037602469777\n",
      "(1, 1, 0) MAE: 557.7877540224487\n",
      "(1, 1, 1) MAE: 574.8439933545515\n",
      "(1, 1, 2) MAE: 580.9595157510356\n",
      "(1, 2, 0) MAE: 1343.4026375140647\n",
      "(1, 2, 1) MAE: 959.7742855705266\n",
      "(1, 2, 2) MAE: 983.2806673519107\n",
      "(2, 0, 0) MAE: 520.2157176546973\n",
      "(2, 0, 1) MAE: 497.91958882512426\n",
      "(2, 0, 2) MAE: 517.8839875108064\n",
      "(2, 1, 0) MAE: 540.8312247546676\n",
      "(2, 1, 1) MAE: 583.7690948172043\n",
      "(2, 1, 2) MAE: 575.7119915580938\n",
      "(2, 2, 0) MAE: 1302.7515289607784\n",
      "(2, 2, 1) MAE: 983.9152256471518\n",
      "(2, 2, 2) MAE: 965.18717777692\n",
      "Best parameters:  (2, 0, 1)\n",
      "mae:  497.91958882512426\n"
     ]
    }
   ],
   "source": [
    "# Define parameter grid for grid search\n",
    "import itertools\n",
    "p = range(0, 3) # Changed р to p\n",
    "d = range(0, 3)\n",
    "q = range(0, 3)\n",
    "pdq = list(itertools.product(p, d, q))\n",
    "# Perform grid search\n",
    "best_score, best_cfg, bestfit = float('inf'), None, None\n",
    "for param in pdq:\n",
    "    try: # Indent the 'try' block to be part of the 'for' loop\n",
    "        model = ARIMA(train, order=param)\n",
    "        model_fit = model.fit()\n",
    "        y_pred = model_fit.forecast(len(test))\n",
    "        mae = np.sqrt(mean_absolute_error(test, y_pred))\n",
    "        print(param, 'MAE:', mae)\n",
    "        if mae < best_score:  # Changed rmse to mae for consistency\n",
    "            best_score, best_cfg, bestfit = mae, param, model_fit\n",
    "    except:\n",
    "        continue\n",
    "print('Best parameters: ', best_cfg)\n",
    "print('mae: ', best_score)"
   ]
  },
  {
   "cell_type": "code",
   "execution_count": 32,
   "metadata": {
    "colab": {
     "base_uri": "https://localhost:8080/",
     "height": 587
    },
    "id": "USR-JskWS5gS",
    "outputId": "9b201261-c1c6-4450-cfaa-3a029514815c"
   },
   "outputs": [
    {
     "name": "stdout",
     "output_type": "stream",
     "text": [
      "mae: 247923.92\n"
     ]
    },
    {
     "data": {
      "image/png": "[encoded data removed]",
      "text/plain": [
       "<Figure size 1500x800 with 1 Axes>"
      ]
     },
     "metadata": {},
     "output_type": "display_data"
    }
   ],
   "source": [
    "\n",
    "# Make predictions on testing set\n",
    "# parameters (2,0,1)\n",
    "predictions = bestfit.forecast(steps=len (test))\n",
    "# Mean absolute error calculation\n",
    "mae = mean_absolute_error(test, predictions)\n",
    "print('mae: %.2f' % mae)\n",
    "# Plot predictions and actual values\n",
    "fig=plt.figure(figsize=(15,8))\n",
    "ax = fig.add_axes([1, 1, 1, 1])\n",
    "ax=plt.plot(train, label='train data')\n",
    "ax=plt.plot(test, color='green', label='original data')\n",
    "ax=plt.plot(predictions, color='red', label='prediction')\n",
    "plt.legend()\n",
    "plt.show()"
   ]
  },
  {
   "cell_type": "code",
   "execution_count": 33,
   "metadata": {
    "colab": {
     "base_uri": "https://localhost:8080/"
    },
    "id": "I7LDjHYPS5jw",
    "outputId": "540069ab-aaec-4b5c-fbc8-a660864442ff"
   },
   "outputs": [
    {
     "name": "stdout",
     "output_type": "stream",
     "text": [
      "                               SARIMAX Results                                \n",
      "==============================================================================\n",
      "Dep. Variable:                  Value   No. Observations:                 7324\n",
      "Model:               SARIMAX(1, 0, 0)   Log Likelihood             -122781.828\n",
      "Date:                Sun, 01 Dec 2024   AIC                         245567.655\n",
      "Time:                        20:16:14   BIC                         245581.453\n",
      "Sample:                             0   HQIC                        245572.399\n",
      "                               - 7324                                         \n",
      "Covariance Type:                  opg                                         \n",
      "==============================================================================\n",
      "                 coef    std err          z      P>|z|      [0.025      0.975]\n",
      "------------------------------------------------------------------------------\n",
      "ar.L1          0.9827      0.000   3426.422      0.000       0.982       0.983\n",
      "sigma2      2.131e+13   6.12e-18   3.48e+30      0.000    2.13e+13    2.13e+13\n",
      "===================================================================================\n",
      "Ljung-Box (L1) (Q):                   0.83   Jarque-Bera (JB):         662774017.22\n",
      "Prob(Q):                              0.36   Prob(JB):                         0.00\n",
      "Heteroskedasticity (H):               0.04   Skew:                           -33.16\n",
      "Prob(H) (two-sided):                  0.00   Kurtosis:                      1475.22\n",
      "===================================================================================\n",
      "\n",
      "Warnings:\n",
      "[1] Covariance matrix calculated using the outer product of gradients (complex-step).\n",
      "[2] Covariance matrix is singular or near-singular, with condition number 1.54e+43. Standard errors may be unstable.\n"
     ]
    }
   ],
   "source": [
    "# Fitting the model\n",
    "best_model = SARIMAX(df['Value']).fit(dis=-1)\n",
    "print(best_model.summary())"
   ]
  },
  {
   "cell_type": "code",
   "execution_count": 34,
   "metadata": {
    "colab": {
     "base_uri": "https://localhost:8080/",
     "height": 822
    },
    "id": "p8D0FME3S5m7",
    "outputId": "4f647390-8a41-47b8-a8c1-57c8f9843088"
   },
   "outputs": [],
   "source": [
    "best_model.plot_diagnostics (figsize=(15,12));"
   ]
  },
  {
   "cell_type": "code",
   "execution_count": 35,
   "metadata": {
    "colab": {
     "base_uri": "https://localhost:8080/",
     "height": 541
    },
    "id": "MMtIFt4vS5sf",
    "outputId": "4ade930c-8a7e-40ab-f92f-0d0276878c36"
   },
   "outputs": [
    {
     "data": {
      "image/png": "[encoded data removed]",
      "text/plain": [
       "<Figure size 1500x1200 with 4 Axes>"
      ]
     },
     "metadata": {},
     "output_type": "display_data"
    },
    {
     "data": {
      "image/png": "[encoded data removed]",
      "text/plain": [
       "<Figure size 1500x750 with 1 Axes>"
      ]
     },
     "metadata": {},
     "output_type": "display_data"
    }
   ],
   "source": [
    "# Plot\n",
    "new['arima_model'] = best_model.fittedvalues\n",
    "new['arima_model'][:4+1] = np.nan  # Set first few values to NaN\n",
    "\n",
    "# Generate forecast\n",
    "forecast = best_model.predict(start=new.shape[0], end=new.shape[0] + 8)\n",
    "\n",
    "# Combine the existing ARIMA model values with the forecast\n",
    "forecast = pd.concat([new['arima_model'], forecast])\n",
    "\n",
    "# Plot the results\n",
    "plt.figure(figsize=(15, 7.5))\n",
    "plt.plot(forecast, color='r', label='Model')  # Plot the model predictions\n",
    "plt.axvspan(new.index[-1], forecast.index[-1], alpha=0.5, color='lightgrey')  # Highlight the forecasted range\n",
    "plt.plot(new['y'], label='Actual')  # Plot the actual values\n",
    "plt.legend()\n",
    "plt.show()\n"
   ]
  },
  {
   "cell_type": "code",
   "execution_count": 36,
   "metadata": {
    "colab": {
     "base_uri": "https://localhost:8080/"
    },
    "id": "NPtR3MeDc1Eu",
    "outputId": "be25a75e-d5da-46a8-9dd5-c3964f1948c0"
   },
   "outputs": [
    {
     "name": "stdout",
     "output_type": "stream",
     "text": [
      "Optimizing ARIMA...\n",
      "ARIMA(0, 0, 0) RMSE=3.8356\n",
      "ARIMA(0, 0, 1) RMSE=3.8145\n",
      "ARIMA(0, 0, 2) RMSE=3.5659\n",
      "ARIMA(0, 1, 0) RMSE=0.9247\n",
      "ARIMA(0, 1, 1) RMSE=0.9107\n",
      "ARIMA(0, 1, 2) RMSE=0.9210\n",
      "ARIMA(1, 0, 0) RMSE=1.0396\n",
      "ARIMA(1, 0, 1) RMSE=1.0379\n",
      "ARIMA(1, 0, 2) RMSE=1.0441\n",
      "ARIMA(1, 1, 0) RMSE=0.9106\n",
      "ARIMA(1, 1, 1) RMSE=0.9971\n",
      "ARIMA(1, 1, 2) RMSE=1.0116\n",
      "ARIMA(2, 0, 0) RMSE=1.0378\n",
      "ARIMA(2, 0, 1) RMSE=1.0975\n",
      "ARIMA(2, 0, 2) RMSE=1.0923\n",
      "ARIMA(2, 1, 0) RMSE=0.9192\n",
      "ARIMA(2, 1, 1) RMSE=1.0056\n",
      "ARIMA(2, 1, 2) RMSE=0.9091\n",
      "Best ARIMA(2, 1, 2) RMSE=0.9091\n",
      "\n",
      "Optimizing SARIMA...\n",
      "SARIMA(0, 0, 0)x(0, 0, 0, 12) RMSE=9.4419\n",
      "SARIMA(0, 0, 0)x(0, 0, 1, 12) RMSE=7.4568\n",
      "SARIMA(0, 0, 0)x(0, 0, 2, 12) RMSE=7.5752\n",
      "SARIMA(0, 0, 0)x(0, 1, 0, 12) RMSE=2.0065\n",
      "SARIMA(0, 0, 0)x(0, 1, 1, 12) RMSE=2.6712\n",
      "SARIMA(0, 0, 0)x(0, 1, 2, 12) RMSE=4.2557\n",
      "SARIMA(0, 0, 0)x(1, 0, 0, 12) RMSE=3.1382\n",
      "SARIMA(0, 0, 0)x(1, 0, 1, 12) RMSE=3.9463\n",
      "SARIMA(0, 0, 0)x(1, 0, 2, 12) RMSE=4.9988\n",
      "SARIMA(0, 0, 0)x(1, 1, 0, 12) RMSE=3.4476\n",
      "SARIMA(0, 0, 0)x(1, 1, 1, 12) RMSE=3.3985\n",
      "SARIMA(0, 0, 0)x(1, 1, 2, 12) RMSE=4.9503\n",
      "SARIMA(0, 0, 0)x(2, 0, 0, 12) RMSE=6.2796\n",
      "SARIMA(0, 0, 0)x(2, 0, 1, 12) RMSE=6.7035\n",
      "SARIMA(0, 0, 0)x(2, 0, 2, 12) RMSE=7.9587\n",
      "SARIMA(0, 0, 0)x(2, 1, 0, 12) RMSE=3.3754\n",
      "SARIMA(0, 0, 0)x(2, 1, 1, 12) RMSE=3.7899\n",
      "SARIMA(0, 0, 0)x(2, 1, 2, 12) RMSE=5.8523\n",
      "SARIMA(0, 0, 1)x(0, 0, 0, 12) RMSE=9.3081\n",
      "SARIMA(0, 0, 1)x(0, 0, 1, 12) RMSE=7.4006\n",
      "SARIMA(0, 0, 1)x(0, 0, 2, 12) RMSE=7.0721\n",
      "SARIMA(0, 0, 1)x(0, 1, 0, 12) RMSE=1.9994\n",
      "SARIMA(0, 0, 1)x(0, 1, 1, 12) RMSE=2.5210\n",
      "SARIMA(0, 0, 1)x(0, 1, 2, 12) RMSE=3.9570\n",
      "SARIMA(0, 0, 1)x(1, 0, 0, 12) RMSE=3.2753\n",
      "SARIMA(0, 0, 1)x(1, 0, 1, 12) RMSE=4.0264\n",
      "SARIMA(0, 0, 1)x(1, 0, 2, 12) RMSE=4.9940\n",
      "SARIMA(0, 0, 1)x(1, 1, 0, 12) RMSE=2.9319\n",
      "SARIMA(0, 0, 1)x(1, 1, 1, 12) RMSE=2.9215\n",
      "SARIMA(0, 0, 1)x(1, 1, 2, 12) RMSE=4.1038\n",
      "SARIMA(0, 0, 1)x(2, 0, 0, 12) RMSE=5.5078\n",
      "SARIMA(0, 0, 1)x(2, 0, 1, 12) RMSE=6.2586\n",
      "SARIMA(0, 0, 1)x(2, 0, 2, 12) RMSE=7.1765\n",
      "SARIMA(0, 0, 1)x(2, 1, 0, 12) RMSE=2.9713\n",
      "SARIMA(0, 0, 1)x(2, 1, 1, 12) RMSE=3.2406\n",
      "SARIMA(0, 0, 1)x(2, 1, 2, 12) RMSE=4.2959\n",
      "SARIMA(0, 0, 2)x(0, 0, 0, 12) RMSE=8.9519\n",
      "SARIMA(0, 0, 2)x(0, 0, 1, 12) RMSE=7.1152\n",
      "SARIMA(0, 0, 2)x(0, 0, 2, 12) RMSE=6.7486\n",
      "SARIMA(0, 0, 2)x(0, 1, 0, 12) RMSE=2.0469\n",
      "SARIMA(0, 0, 2)x(0, 1, 1, 12) RMSE=2.1888\n",
      "SARIMA(0, 0, 2)x(0, 1, 2, 12) RMSE=2.7780\n",
      "SARIMA(0, 0, 2)x(1, 0, 0, 12) RMSE=3.6180\n",
      "SARIMA(0, 0, 2)x(1, 0, 1, 12) RMSE=4.2275\n",
      "SARIMA(0, 0, 2)x(1, 0, 2, 12) RMSE=4.8904\n",
      "SARIMA(0, 0, 2)x(1, 1, 0, 12) RMSE=2.2329\n",
      "SARIMA(0, 0, 2)x(1, 1, 1, 12) RMSE=2.2497\n",
      "SARIMA(0, 0, 2)x(1, 1, 2, 12) RMSE=2.7791\n",
      "SARIMA(0, 0, 2)x(2, 0, 0, 12) RMSE=4.8607\n",
      "SARIMA(0, 0, 2)x(2, 0, 1, 12) RMSE=5.8171\n",
      "SARIMA(0, 0, 2)x(2, 0, 2, 12) RMSE=5.5327\n",
      "SARIMA(0, 0, 2)x(2, 1, 0, 12) RMSE=2.4108\n",
      "SARIMA(0, 0, 2)x(2, 1, 1, 12) RMSE=2.4410\n",
      "SARIMA(0, 0, 2)x(2, 1, 2, 12) RMSE=3.3365\n",
      "SARIMA(0, 1, 0)x(0, 0, 0, 12) RMSE=0.9247\n",
      "SARIMA(0, 1, 0)x(0, 0, 1, 12) RMSE=0.9112\n",
      "SARIMA(0, 1, 0)x(0, 0, 2, 12) RMSE=0.9065\n",
      "SARIMA(0, 1, 0)x(0, 1, 0, 12) RMSE=1.5349\n",
      "SARIMA(0, 1, 0)x(0, 1, 1, 12) RMSE=2.3446\n",
      "SARIMA(0, 1, 0)x(0, 1, 2, 12) RMSE=2.3042\n",
      "SARIMA(0, 1, 0)x(1, 0, 0, 12) RMSE=0.9132\n",
      "SARIMA(0, 1, 0)x(1, 0, 1, 12) RMSE=0.9082\n",
      "SARIMA(0, 1, 0)x(1, 0, 2, 12) RMSE=0.9068\n",
      "SARIMA(0, 1, 0)x(1, 1, 0, 12) RMSE=1.3354\n",
      "SARIMA(0, 1, 0)x(1, 1, 1, 12) RMSE=2.3060\n",
      "SARIMA(0, 1, 0)x(1, 1, 2, 12) RMSE=2.3268\n",
      "SARIMA(0, 1, 0)x(2, 0, 0, 12) RMSE=0.9049\n",
      "SARIMA(0, 1, 0)x(2, 0, 1, 12) RMSE=0.9070\n",
      "SARIMA(0, 1, 0)x(2, 0, 2, 12) RMSE=0.9078\n",
      "SARIMA(0, 1, 0)x(2, 1, 0, 12) RMSE=1.6547\n",
      "SARIMA(0, 1, 0)x(2, 1, 1, 12) RMSE=2.4588\n",
      "SARIMA(0, 1, 0)x(2, 1, 2, 12) RMSE=2.3200\n",
      "SARIMA(0, 1, 1)x(0, 0, 0, 12) RMSE=0.9107\n",
      "SARIMA(0, 1, 1)x(0, 0, 1, 12) RMSE=0.8916\n",
      "SARIMA(0, 1, 1)x(0, 0, 2, 12) RMSE=0.8909\n",
      "SARIMA(0, 1, 1)x(0, 1, 0, 12) RMSE=1.5552\n",
      "SARIMA(0, 1, 1)x(0, 1, 1, 12) RMSE=2.1846\n",
      "SARIMA(0, 1, 1)x(0, 1, 2, 12) RMSE=2.1699\n",
      "SARIMA(0, 1, 1)x(1, 0, 0, 12) RMSE=0.8926\n",
      "SARIMA(0, 1, 1)x(1, 0, 1, 12) RMSE=0.8914\n",
      "SARIMA(0, 1, 1)x(1, 0, 2, 12) RMSE=0.8910\n",
      "SARIMA(0, 1, 1)x(1, 1, 0, 12) RMSE=1.3267\n",
      "SARIMA(0, 1, 1)x(1, 1, 1, 12) RMSE=2.1692\n",
      "SARIMA(0, 1, 1)x(1, 1, 2, 12) RMSE=2.1828\n",
      "SARIMA(0, 1, 1)x(2, 0, 0, 12) RMSE=0.8899\n",
      "SARIMA(0, 1, 1)x(2, 0, 1, 12) RMSE=0.8901\n",
      "SARIMA(0, 1, 1)x(2, 0, 2, 12) RMSE=0.8955\n",
      "SARIMA(0, 1, 1)x(2, 1, 0, 12) RMSE=1.5094\n",
      "SARIMA(0, 1, 1)x(2, 1, 1, 12) RMSE=2.2606\n",
      "SARIMA(0, 1, 1)x(2, 1, 2, 12) RMSE=2.1794\n",
      "SARIMA(0, 1, 2)x(0, 0, 0, 12) RMSE=0.9210\n",
      "SARIMA(0, 1, 2)x(0, 0, 1, 12) RMSE=0.8975\n",
      "SARIMA(0, 1, 2)x(0, 0, 2, 12) RMSE=0.8964\n",
      "SARIMA(0, 1, 2)x(0, 1, 0, 12) RMSE=1.5988\n",
      "SARIMA(0, 1, 2)x(0, 1, 1, 12) RMSE=2.2441\n",
      "SARIMA(0, 1, 2)x(0, 1, 2, 12) RMSE=2.2450\n",
      "SARIMA(0, 1, 2)x(1, 0, 0, 12) RMSE=0.8989\n",
      "SARIMA(0, 1, 2)x(1, 0, 1, 12) RMSE=0.8969\n",
      "SARIMA(0, 1, 2)x(1, 0, 2, 12) RMSE=0.8965\n",
      "SARIMA(0, 1, 2)x(1, 1, 0, 12) RMSE=1.3189\n",
      "SARIMA(0, 1, 2)x(1, 1, 1, 12) RMSE=2.2437\n",
      "SARIMA(0, 1, 2)x(1, 1, 2, 12) RMSE=2.2525\n",
      "SARIMA(0, 1, 2)x(2, 0, 0, 12) RMSE=0.8955\n",
      "SARIMA(0, 1, 2)x(2, 0, 1, 12) RMSE=0.8956\n",
      "SARIMA(0, 1, 2)x(2, 0, 2, 12) RMSE=0.9040\n",
      "SARIMA(0, 1, 2)x(2, 1, 0, 12) RMSE=1.6192\n",
      "SARIMA(0, 1, 2)x(2, 1, 1, 12) RMSE=2.3234\n",
      "SARIMA(0, 1, 2)x(2, 1, 2, 12) RMSE=2.2583\n",
      "SARIMA(1, 0, 0)x(0, 0, 0, 12) RMSE=1.0895\n",
      "SARIMA(1, 0, 0)x(0, 0, 1, 12) RMSE=1.1196\n",
      "SARIMA(1, 0, 0)x(0, 0, 2, 12) RMSE=1.1106\n",
      "SARIMA(1, 0, 0)x(0, 1, 0, 12) RMSE=1.7062\n",
      "SARIMA(1, 0, 0)x(0, 1, 1, 12) RMSE=1.3754\n",
      "SARIMA(1, 0, 0)x(0, 1, 2, 12) RMSE=1.2711\n",
      "SARIMA(1, 0, 0)x(1, 0, 0, 12) RMSE=1.1247\n",
      "SARIMA(1, 0, 0)x(1, 0, 1, 12) RMSE=1.1094\n",
      "SARIMA(1, 0, 0)x(1, 0, 2, 12) RMSE=1.1844\n",
      "SARIMA(1, 0, 0)x(1, 1, 0, 12) RMSE=1.3423\n",
      "SARIMA(1, 0, 0)x(1, 1, 1, 12) RMSE=1.1362\n",
      "SARIMA(1, 0, 0)x(1, 1, 2, 12) RMSE=1.3002\n",
      "SARIMA(1, 0, 0)x(2, 0, 0, 12) RMSE=1.1124\n",
      "SARIMA(1, 0, 0)x(2, 0, 1, 12) RMSE=1.2108\n",
      "SARIMA(1, 0, 0)x(2, 0, 2, 12) RMSE=1.4603\n",
      "SARIMA(1, 0, 0)x(2, 1, 0, 12) RMSE=1.4687\n",
      "SARIMA(1, 0, 0)x(2, 1, 1, 12) RMSE=1.4821\n",
      "SARIMA(1, 0, 0)x(2, 1, 2, 12) RMSE=2.4435\n",
      "SARIMA(1, 0, 1)x(0, 0, 0, 12) RMSE=1.0854\n",
      "SARIMA(1, 0, 1)x(0, 0, 1, 12) RMSE=1.1151\n",
      "SARIMA(1, 0, 1)x(0, 0, 2, 12) RMSE=1.1135\n",
      "SARIMA(1, 0, 1)x(0, 1, 0, 12) RMSE=1.7038\n",
      "SARIMA(1, 0, 1)x(0, 1, 1, 12) RMSE=1.3253\n",
      "SARIMA(1, 0, 1)x(0, 1, 2, 12) RMSE=1.2653\n",
      "SARIMA(1, 0, 1)x(1, 0, 0, 12) RMSE=1.1207\n",
      "SARIMA(1, 0, 1)x(1, 0, 1, 12) RMSE=1.1133\n",
      "SARIMA(1, 0, 1)x(1, 0, 2, 12) RMSE=1.1800\n",
      "SARIMA(1, 0, 1)x(1, 1, 0, 12) RMSE=1.3504\n",
      "SARIMA(1, 0, 1)x(1, 1, 1, 12) RMSE=1.0385\n",
      "SARIMA(1, 0, 1)x(1, 1, 2, 12) RMSE=1.2759\n",
      "SARIMA(1, 0, 1)x(2, 0, 0, 12) RMSE=1.1153\n",
      "SARIMA(1, 0, 1)x(2, 0, 1, 12) RMSE=1.2023\n",
      "SARIMA(1, 0, 1)x(2, 0, 2, 12) RMSE=1.2311\n",
      "SARIMA(1, 0, 1)x(2, 1, 0, 12) RMSE=1.3970\n",
      "SARIMA(1, 0, 1)x(2, 1, 1, 12) RMSE=1.3583\n",
      "SARIMA(1, 0, 1)x(2, 1, 2, 12) RMSE=1.0462\n",
      "SARIMA(1, 0, 2)x(0, 0, 0, 12) RMSE=1.0900\n",
      "SARIMA(1, 0, 2)x(0, 0, 1, 12) RMSE=1.1173\n",
      "SARIMA(1, 0, 2)x(0, 0, 2, 12) RMSE=1.1170\n",
      "SARIMA(1, 0, 2)x(0, 1, 0, 12) RMSE=1.7206\n",
      "SARIMA(1, 0, 2)x(0, 1, 1, 12) RMSE=1.3492\n",
      "SARIMA(1, 0, 2)x(0, 1, 2, 12) RMSE=1.0947\n",
      "SARIMA(1, 0, 2)x(1, 0, 0, 12) RMSE=1.1231\n",
      "SARIMA(1, 0, 2)x(1, 0, 1, 12) RMSE=1.1171\n",
      "SARIMA(1, 0, 2)x(1, 0, 2, 12) RMSE=1.1764\n",
      "SARIMA(1, 0, 2)x(1, 1, 0, 12) RMSE=1.3415\n",
      "SARIMA(1, 0, 2)x(1, 1, 1, 12) RMSE=1.0938\n",
      "SARIMA(1, 0, 2)x(1, 1, 2, 12) RMSE=1.3161\n",
      "SARIMA(1, 0, 2)x(2, 0, 0, 12) RMSE=1.1190\n",
      "SARIMA(1, 0, 2)x(2, 0, 1, 12) RMSE=1.2033\n",
      "SARIMA(1, 0, 2)x(2, 0, 2, 12) RMSE=1.2031\n",
      "SARIMA(1, 0, 2)x(2, 1, 0, 12) RMSE=1.4743\n",
      "SARIMA(1, 0, 2)x(2, 1, 1, 12) RMSE=1.0942\n",
      "SARIMA(1, 0, 2)x(2, 1, 2, 12) RMSE=2.2657\n",
      "SARIMA(1, 1, 0)x(0, 0, 0, 12) RMSE=0.9106\n",
      "SARIMA(1, 1, 0)x(0, 0, 1, 12) RMSE=0.8918\n",
      "SARIMA(1, 1, 0)x(0, 0, 2, 12) RMSE=0.8910\n",
      "SARIMA(1, 1, 0)x(0, 1, 0, 12) RMSE=1.5525\n",
      "SARIMA(1, 1, 0)x(0, 1, 1, 12) RMSE=2.1846\n",
      "SARIMA(1, 1, 0)x(0, 1, 2, 12) RMSE=2.1731\n",
      "SARIMA(1, 1, 0)x(1, 0, 0, 12) RMSE=0.8928\n",
      "SARIMA(1, 1, 0)x(1, 0, 1, 12) RMSE=0.8916\n",
      "SARIMA(1, 1, 0)x(1, 0, 2, 12) RMSE=0.8912\n",
      "SARIMA(1, 1, 0)x(1, 1, 0, 12) RMSE=1.3243\n",
      "SARIMA(1, 1, 0)x(1, 1, 1, 12) RMSE=2.1732\n",
      "SARIMA(1, 1, 0)x(1, 1, 2, 12) RMSE=2.1851\n",
      "SARIMA(1, 1, 0)x(2, 0, 0, 12) RMSE=0.8901\n",
      "SARIMA(1, 1, 0)x(2, 0, 1, 12) RMSE=0.8902\n",
      "SARIMA(1, 1, 0)x(2, 0, 2, 12) RMSE=0.8957\n",
      "SARIMA(1, 1, 0)x(2, 1, 0, 12) RMSE=1.5054\n",
      "SARIMA(1, 1, 0)x(2, 1, 1, 12) RMSE=2.2578\n",
      "SARIMA(1, 1, 0)x(2, 1, 2, 12) RMSE=2.1831\n",
      "SARIMA(1, 1, 1)x(0, 0, 0, 12) RMSE=0.9971\n",
      "SARIMA(1, 1, 1)x(0, 0, 1, 12) RMSE=0.9813\n",
      "SARIMA(1, 1, 1)x(0, 0, 2, 12) RMSE=0.9795\n",
      "SARIMA(1, 1, 1)x(0, 1, 0, 12) RMSE=1.5608\n",
      "SARIMA(1, 1, 1)x(0, 1, 1, 12) RMSE=2.1932\n",
      "SARIMA(1, 1, 1)x(0, 1, 2, 12) RMSE=2.1828\n",
      "SARIMA(1, 1, 1)x(1, 0, 0, 12) RMSE=0.9821\n",
      "SARIMA(1, 1, 1)x(1, 0, 1, 12) RMSE=0.9706\n",
      "SARIMA(1, 1, 1)x(1, 0, 2, 12) RMSE=0.9812\n",
      "SARIMA(1, 1, 1)x(1, 1, 0, 12) RMSE=1.3238\n",
      "SARIMA(1, 1, 1)x(1, 1, 1, 12) RMSE=2.1822\n",
      "SARIMA(1, 1, 1)x(1, 1, 2, 12) RMSE=2.1937\n",
      "SARIMA(1, 1, 1)x(2, 0, 0, 12) RMSE=0.9771\n",
      "SARIMA(1, 1, 1)x(2, 0, 1, 12) RMSE=0.9814\n",
      "SARIMA(1, 1, 1)x(2, 0, 2, 12) RMSE=0.8879\n",
      "SARIMA(1, 1, 1)x(2, 1, 0, 12) RMSE=1.5205\n",
      "SARIMA(1, 1, 1)x(2, 1, 1, 12) RMSE=2.2676\n",
      "SARIMA(1, 1, 1)x(2, 1, 2, 12) RMSE=2.1921\n",
      "SARIMA(1, 1, 2)x(0, 0, 0, 12) RMSE=1.0116\n",
      "SARIMA(1, 1, 2)x(0, 0, 1, 12) RMSE=1.0346\n",
      "SARIMA(1, 1, 2)x(0, 0, 2, 12) RMSE=1.0346\n",
      "SARIMA(1, 1, 2)x(0, 1, 0, 12) RMSE=1.7081\n",
      "SARIMA(1, 1, 2)x(0, 1, 1, 12) RMSE=2.7555\n",
      "SARIMA(1, 1, 2)x(0, 1, 2, 12) RMSE=2.7256\n",
      "SARIMA(1, 1, 2)x(1, 0, 0, 12) RMSE=1.0361\n",
      "SARIMA(1, 1, 2)x(1, 0, 1, 12) RMSE=1.0347\n",
      "SARIMA(1, 1, 2)x(1, 0, 2, 12) RMSE=1.0345\n",
      "SARIMA(1, 1, 2)x(1, 1, 0, 12) RMSE=1.9151\n",
      "SARIMA(1, 1, 2)x(1, 1, 1, 12) RMSE=2.7256\n",
      "SARIMA(1, 1, 2)x(1, 1, 2, 12) RMSE=2.8368\n",
      "SARIMA(1, 1, 2)x(2, 0, 0, 12) RMSE=1.0350\n",
      "SARIMA(1, 1, 2)x(2, 0, 1, 12) RMSE=1.0353\n",
      "SARIMA(1, 1, 2)x(2, 0, 2, 12) RMSE=1.0491\n",
      "SARIMA(1, 1, 2)x(2, 1, 0, 12) RMSE=2.6332\n",
      "SARIMA(1, 1, 2)x(2, 1, 1, 12) RMSE=2.7560\n",
      "SARIMA(1, 1, 2)x(2, 1, 2, 12) RMSE=2.8584\n",
      "SARIMA(2, 0, 0)x(0, 0, 0, 12) RMSE=1.0853\n",
      "SARIMA(2, 0, 0)x(0, 0, 1, 12) RMSE=1.1151\n",
      "SARIMA(2, 0, 0)x(0, 0, 2, 12) RMSE=1.1136\n",
      "SARIMA(2, 0, 0)x(0, 1, 0, 12) RMSE=1.7039\n",
      "SARIMA(2, 0, 0)x(0, 1, 1, 12) RMSE=1.3254\n",
      "SARIMA(2, 0, 0)x(0, 1, 2, 12) RMSE=1.2682\n",
      "SARIMA(2, 0, 0)x(1, 0, 0, 12) RMSE=1.1206\n",
      "SARIMA(2, 0, 0)x(1, 0, 1, 12) RMSE=1.1135\n",
      "SARIMA(2, 0, 0)x(1, 0, 2, 12) RMSE=1.1782\n",
      "SARIMA(2, 0, 0)x(1, 1, 0, 12) RMSE=1.3495\n",
      "SARIMA(2, 0, 0)x(1, 1, 1, 12) RMSE=1.0390\n",
      "SARIMA(2, 0, 0)x(1, 1, 2, 12) RMSE=1.2789\n",
      "SARIMA(2, 0, 0)x(2, 0, 0, 12) RMSE=1.1154\n",
      "SARIMA(2, 0, 0)x(2, 0, 1, 12) RMSE=1.2041\n",
      "SARIMA(2, 0, 0)x(2, 0, 2, 12) RMSE=1.2027\n",
      "SARIMA(2, 0, 0)x(2, 1, 0, 12) RMSE=1.3940\n",
      "SARIMA(2, 0, 0)x(2, 1, 1, 12) RMSE=1.3594\n",
      "SARIMA(2, 0, 0)x(2, 1, 2, 12) RMSE=1.2650\n",
      "SARIMA(2, 0, 1)x(0, 0, 0, 12) RMSE=1.1619\n",
      "SARIMA(2, 0, 1)x(0, 0, 1, 12) RMSE=1.2213\n",
      "SARIMA(2, 0, 1)x(0, 0, 2, 12) RMSE=1.2103\n",
      "SARIMA(2, 0, 1)x(0, 1, 0, 12) RMSE=1.7266\n",
      "SARIMA(2, 0, 1)x(0, 1, 1, 12) RMSE=1.3138\n",
      "SARIMA(2, 0, 1)x(0, 1, 2, 12) RMSE=1.1225\n",
      "SARIMA(2, 0, 1)x(1, 0, 0, 12) RMSE=1.2293\n",
      "SARIMA(2, 0, 1)x(1, 0, 1, 12) RMSE=1.2125\n",
      "SARIMA(2, 0, 1)x(1, 0, 2, 12) RMSE=1.2763\n",
      "SARIMA(2, 0, 1)x(1, 1, 0, 12) RMSE=1.3370\n",
      "SARIMA(2, 0, 1)x(1, 1, 1, 12) RMSE=1.0454\n",
      "SARIMA(2, 0, 1)x(1, 1, 2, 12) RMSE=1.0793\n",
      "SARIMA(2, 0, 1)x(2, 0, 0, 12) RMSE=1.2106\n",
      "SARIMA(2, 0, 1)x(2, 0, 1, 12) RMSE=1.3169\n",
      "SARIMA(2, 0, 1)x(2, 0, 2, 12) RMSE=1.3035\n",
      "SARIMA(2, 0, 1)x(2, 1, 0, 12) RMSE=1.4017\n",
      "SARIMA(2, 0, 1)x(2, 1, 1, 12) RMSE=1.3704\n",
      "SARIMA(2, 0, 1)x(2, 1, 2, 12) RMSE=1.1093\n",
      "SARIMA(2, 0, 2)x(0, 0, 0, 12) RMSE=1.1519\n",
      "SARIMA(2, 0, 2)x(0, 0, 1, 12) RMSE=1.2205\n",
      "SARIMA(2, 0, 2)x(0, 0, 2, 12) RMSE=1.2427\n",
      "SARIMA(2, 0, 2)x(0, 1, 0, 12) RMSE=1.8037\n",
      "SARIMA(2, 0, 2)x(0, 1, 1, 12) RMSE=1.2081\n",
      "SARIMA(2, 0, 2)x(0, 1, 2, 12) RMSE=1.1021\n",
      "SARIMA(2, 0, 2)x(1, 0, 0, 12) RMSE=1.2335\n",
      "SARIMA(2, 0, 2)x(1, 0, 1, 12) RMSE=1.2372\n",
      "SARIMA(2, 0, 2)x(1, 0, 2, 12) RMSE=1.2932\n",
      "SARIMA(2, 0, 2)x(1, 1, 0, 12) RMSE=1.3901\n",
      "SARIMA(2, 0, 2)x(1, 1, 1, 12) RMSE=1.0806\n",
      "SARIMA(2, 0, 2)x(1, 1, 2, 12) RMSE=1.0560\n",
      "SARIMA(2, 0, 2)x(2, 0, 0, 12) RMSE=1.2379\n",
      "SARIMA(2, 0, 2)x(2, 0, 1, 12) RMSE=1.3558\n",
      "SARIMA(2, 0, 2)x(2, 0, 2, 12) RMSE=1.2778\n",
      "SARIMA(2, 0, 2)x(2, 1, 0, 12) RMSE=1.2684\n",
      "SARIMA(2, 0, 2)x(2, 1, 1, 12) RMSE=1.0385\n",
      "SARIMA(2, 0, 2)x(2, 1, 2, 12) RMSE=1.0575\n",
      "SARIMA(2, 1, 0)x(0, 0, 0, 12) RMSE=0.9192\n",
      "SARIMA(2, 1, 0)x(0, 0, 1, 12) RMSE=0.8953\n",
      "SARIMA(2, 1, 0)x(0, 0, 2, 12) RMSE=0.8943\n",
      "SARIMA(2, 1, 0)x(0, 1, 0, 12) RMSE=1.6024\n",
      "SARIMA(2, 1, 0)x(0, 1, 1, 12) RMSE=2.2229\n",
      "SARIMA(2, 1, 0)x(0, 1, 2, 12) RMSE=2.2162\n",
      "SARIMA(2, 1, 0)x(1, 0, 0, 12) RMSE=0.8966\n",
      "SARIMA(2, 1, 0)x(1, 0, 1, 12) RMSE=0.8949\n",
      "SARIMA(2, 1, 0)x(1, 0, 2, 12) RMSE=0.8945\n",
      "SARIMA(2, 1, 0)x(1, 1, 0, 12) RMSE=1.3224\n",
      "SARIMA(2, 1, 0)x(1, 1, 1, 12) RMSE=2.2149\n",
      "SARIMA(2, 1, 0)x(1, 1, 2, 12) RMSE=2.2264\n",
      "SARIMA(2, 1, 0)x(2, 0, 0, 12) RMSE=0.8933\n",
      "SARIMA(2, 1, 0)x(2, 0, 1, 12) RMSE=0.8935\n",
      "SARIMA(2, 1, 0)x(2, 0, 2, 12) RMSE=0.9058\n",
      "SARIMA(2, 1, 0)x(2, 1, 0, 12) RMSE=1.6011\n",
      "SARIMA(2, 1, 0)x(2, 1, 1, 12) RMSE=2.3091\n",
      "SARIMA(2, 1, 0)x(2, 1, 2, 12) RMSE=2.2269\n",
      "SARIMA(2, 1, 1)x(0, 0, 0, 12) RMSE=1.0056\n",
      "SARIMA(2, 1, 1)x(0, 0, 1, 12) RMSE=1.0246\n",
      "SARIMA(2, 1, 1)x(0, 0, 2, 12) RMSE=1.0241\n",
      "SARIMA(2, 1, 1)x(0, 1, 0, 12) RMSE=1.7315\n",
      "SARIMA(2, 1, 1)x(0, 1, 1, 12) RMSE=2.6275\n",
      "SARIMA(2, 1, 1)x(0, 1, 2, 12) RMSE=2.5957\n",
      "SARIMA(2, 1, 1)x(1, 0, 0, 12) RMSE=1.0259\n",
      "SARIMA(2, 1, 1)x(1, 0, 1, 12) RMSE=1.0242\n",
      "SARIMA(2, 1, 1)x(1, 0, 2, 12) RMSE=1.0243\n",
      "SARIMA(2, 1, 1)x(1, 1, 0, 12) RMSE=1.5827\n",
      "SARIMA(2, 1, 1)x(1, 1, 1, 12) RMSE=2.5957\n",
      "SARIMA(2, 1, 1)x(1, 1, 2, 12) RMSE=2.6657\n",
      "SARIMA(2, 1, 1)x(2, 0, 0, 12) RMSE=1.0239\n",
      "SARIMA(2, 1, 1)x(2, 0, 1, 12) RMSE=1.0249\n",
      "SARIMA(2, 1, 1)x(2, 0, 2, 12) RMSE=1.0314\n",
      "SARIMA(2, 1, 1)x(2, 1, 0, 12) RMSE=2.3522\n",
      "SARIMA(2, 1, 1)x(2, 1, 1, 12) RMSE=2.6624\n",
      "SARIMA(2, 1, 1)x(2, 1, 2, 12) RMSE=2.6895\n",
      "SARIMA(2, 1, 2)x(0, 0, 0, 12) RMSE=0.9091\n",
      "SARIMA(2, 1, 2)x(0, 0, 1, 12) RMSE=0.8869\n",
      "SARIMA(2, 1, 2)x(0, 0, 2, 12) RMSE=0.9101\n",
      "SARIMA(2, 1, 2)x(0, 1, 0, 12) RMSE=1.5717\n",
      "SARIMA(2, 1, 2)x(0, 1, 1, 12) RMSE=2.2482\n",
      "SARIMA(2, 1, 2)x(0, 1, 2, 12) RMSE=2.2785\n",
      "SARIMA(2, 1, 2)x(1, 0, 0, 12) RMSE=0.8332\n",
      "SARIMA(2, 1, 2)x(1, 0, 1, 12) RMSE=0.8580\n",
      "SARIMA(2, 1, 2)x(1, 0, 2, 12) RMSE=0.9237\n",
      "SARIMA(2, 1, 2)x(1, 1, 0, 12) RMSE=5.0405\n",
      "SARIMA(2, 1, 2)x(1, 1, 1, 12) RMSE=2.3175\n",
      "SARIMA(2, 1, 2)x(1, 1, 2, 12) RMSE=2.0981\n",
      "SARIMA(2, 1, 2)x(2, 0, 0, 12) RMSE=0.9123\n",
      "SARIMA(2, 1, 2)x(2, 0, 1, 12) RMSE=0.9499\n",
      "SARIMA(2, 1, 2)x(2, 0, 2, 12) RMSE=1.0450\n",
      "SARIMA(2, 1, 2)x(2, 1, 0, 12) RMSE=5.6089\n",
      "SARIMA(2, 1, 2)x(2, 1, 1, 12) RMSE=5.4213\n",
      "SARIMA(2, 1, 2)x(2, 1, 2, 12) RMSE=5.6487\n",
      "Best SARIMA((2, 1, 2), (1, 0, 0, 12)) RMSE=0.8332\n",
      "\n",
      "Final ARIMA model evaluation:\n",
      "ARIMA RMSE: 0.9091\n",
      "\n",
      "Final SARIMA model evaluation:\n",
      "SARIMA RMSE: 0.8332\n"
     ]
    }
   ],
   "source": [
    "import pandas as pd\n",
    "import numpy as np\n",
    "from statsmodels.tsa.arima.model import ARIMA\n",
    "from statsmodels.tsa.statespace.sarimax import SARIMAX\n",
    "from sklearn.metrics import mean_squared_error\n",
    "from math import sqrt\n",
    "import itertools\n",
    "\n",
    "# Function to evaluate ARIMA model\n",
    "def evaluate_arima_model(train, test, order):\n",
    "    model = ARIMA(train, order=order)\n",
    "    model_fit = model.fit()\n",
    "    predictions = model_fit.forecast(steps=len(test))\n",
    "    rmse = sqrt(mean_squared_error(test, predictions))\n",
    "    return rmse\n",
    "\n",
    "# Function to optimize ARIMA\n",
    "def optimize_arima(train, test, p_values, d_values, q_values):\n",
    "    best_score, best_cfg = float(\"inf\"), None\n",
    "    for p, d, q in itertools.product(p_values, d_values, q_values):\n",
    "        try:\n",
    "            order = (p, d, q)\n",
    "            rmse = evaluate_arima_model(train, test, order)\n",
    "            if rmse < best_score:\n",
    "                best_score, best_cfg = rmse, order\n",
    "            print(f'ARIMA{order} RMSE={rmse:.4f}')\n",
    "        except:\n",
    "            continue\n",
    "    print(f'Best ARIMA{best_cfg} RMSE={best_score:.4f}')\n",
    "    return best_cfg\n",
    "\n",
    "# Function to evaluate SARIMA model\n",
    "def evaluate_sarima_model(train, test, order, seasonal_order):\n",
    "    model = SARIMAX(train, order=order, seasonal_order=seasonal_order)\n",
    "    model_fit = model.fit(disp=False)\n",
    "    predictions = model_fit.forecast(steps=len(test))\n",
    "    rmse = sqrt(mean_squared_error(test, predictions))\n",
    "    return rmse\n",
    "\n",
    "# Function to optimize SARIMA\n",
    "def optimize_sarima(train, test, p_values, d_values, q_values, P_values, D_values, Q_values, m):\n",
    "    best_score, best_cfg = float(\"inf\"), None\n",
    "    for p, d, q, P, D, Q in itertools.product(p_values, d_values, q_values, P_values, D_values, Q_values):\n",
    "        try:\n",
    "            order = (p, d, q)\n",
    "            seasonal_order = (P, D, Q, m)\n",
    "            rmse = evaluate_sarima_model(train, test, order, seasonal_order)\n",
    "            if rmse < best_score:\n",
    "                best_score, best_cfg = rmse, (order, seasonal_order)\n",
    "            print(f'SARIMA{order}x{seasonal_order} RMSE={rmse:.4f}')\n",
    "        except:\n",
    "            continue\n",
    "    print(f'Best SARIMA{best_cfg} RMSE={best_score:.4f}')\n",
    "    return best_cfg\n",
    "\n",
    "# Load a time series dataset (replace with your dataset)\n",
    "# Example: A random walk time series\n",
    "np.random.seed(42)\n",
    "data = pd.Series(np.random.randn(100).cumsum())\n",
    "\n",
    "# Split into train and test sets\n",
    "train_size = int(len(data) * 0.8)\n",
    "train, test = data[:train_size], data[train_size:]\n",
    "\n",
    "# Hyperparameter ranges for ARIMA\n",
    "p_values = range(0, 3)\n",
    "d_values = range(0, 2)\n",
    "q_values = range(0, 3)\n",
    "\n",
    "# Optimize ARIMA\n",
    "print(\"Optimizing ARIMA...\")\n",
    "best_arima_order = optimize_arima(train, test, p_values, d_values, q_values)\n",
    "\n",
    "# Hyperparameter ranges for SARIMA\n",
    "P_values = range(0, 3)\n",
    "D_values = range(0, 2)\n",
    "Q_values = range(0, 3)\n",
    "m = 12  # Example: Monthly seasonality\n",
    "\n",
    "# Optimize SARIMA\n",
    "print(\"\\nOptimizing SARIMA...\")\n",
    "best_sarima_order, best_seasonal_order = optimize_sarima(train, test, p_values, d_values, q_values, P_values, D_values, Q_values, m)\n",
    "\n",
    "# Evaluate final ARIMA model\n",
    "print(\"\\nFinal ARIMA model evaluation:\")\n",
    "arima_model = ARIMA(train, order=best_arima_order)\n",
    "arima_fit = arima_model.fit()\n",
    "arima_predictions = arima_fit.forecast(steps=len(test))\n",
    "arima_rmse = sqrt(mean_squared_error(test, arima_predictions))\n",
    "print(f\"ARIMA RMSE: {arima_rmse:.4f}\")\n",
    "\n",
    "# Evaluate final SARIMA model\n",
    "print(\"\\nFinal SARIMA model evaluation:\")\n",
    "sarima_model = SARIMAX(train, order=best_sarima_order, seasonal_order=best_seasonal_order)\n",
    "sarima_fit = sarima_model.fit(disp=False)\n",
    "sarima_predictions = sarima_fit.forecast(steps=len(test))\n",
    "sarima_rmse = sqrt(mean_squared_error(test, sarima_predictions))\n",
    "print(f\"SARIMA RMSE: {sarima_rmse:.4f}\")\n",
    "\n"
   ]
  },
  {
   "cell_type": "code",
   "execution_count": 37,
   "metadata": {
    "id": "LgkuUpOFg-qk"
   },
   "outputs": [],
   "source": [
    "import pickle as pkl\n",
    "pkl.dump(best_model, open('sarima.pkl', 'wb'))"
   ]
  },
  {
   "cell_type": "code",
   "execution_count": 38,
   "metadata": {
    "id": "mCxjVW09g-t4"
   },
   "outputs": [],
   "source": [
    "import pickle as pkl\n",
    "pkl.dump(best_model, open('arima.pkl', 'wb'))"
   ]
  },
  {
   "cell_type": "code",
   "execution_count": 39,
   "metadata": {
    "colab": {
     "base_uri": "https://localhost:8080/"
    },
    "id": "e0DGW7D-H_Le",
    "outputId": "bf64890c-9061-4eda-9b3f-7edaa8ab3d58"
   },
   "outputs": [
    {
     "name": "stderr",
     "output_type": "stream",
     "text": [
      "Importing plotly failed. Interactive plots will not work.\n",
      "20:18:34 - cmdstanpy - INFO - Chain [1] start processing\n",
      "20:18:35 - cmdstanpy - INFO - Chain [1] done processing\n"
     ]
    },
    {
     "data": {
      "text/plain": [
       "<prophet.forecaster.Prophet at 0x190b1046d50>"
      ]
     },
     "execution_count": 39,
     "metadata": {},
     "output_type": "execute_result"
    }
   ],
   "source": [
    "import pandas as pd\n",
    "from prophet import Prophet\n",
    "\n",
    "df = pd.read_csv('rice production across different countries from 1961 to 2021.csv')\n",
    "\n",
    "# Replace 'your_date_column' and 'your_value_column' with the actual column names from your dataframe (df)\n",
    "new = df.rename(columns={'Year': 'ds', 'Value': 'y'})  # Example: Assuming 'Year' is your date column and 'Value' is your value column\n",
    "\n",
    "# Instantiate and fit the Prophet model\n",
    "model = Prophet(seasonality_mode='multiplicative')\n",
    "model.fit(new)"
   ]
  },
  {
   "cell_type": "code",
   "execution_count": 40,
   "metadata": {
    "colab": {
     "base_uri": "https://localhost:8080/",
     "height": 206
    },
    "id": "5FURhdTxD8Lu",
    "outputId": "a484c2cc-e36c-47d4-99db-03920f208921"
   },
   "outputs": [
    {
     "data": {
      "text/html": [
       "<div>\n",
       "<style scoped>\n",
       "    .dataframe tbody tr th:only-of-type {\n",
       "        vertical-align: middle;\n",
       "    }\n",
       "\n",
       "    .dataframe tbody tr th {\n",
       "        vertical-align: top;\n",
       "    }\n",
       "\n",
       "    .dataframe thead th {\n",
       "        text-align: right;\n",
       "    }\n",
       "</style>\n",
       "<table border=\"1\" class=\"dataframe\">\n",
       "  <thead>\n",
       "    <tr style=\"text-align: right;\">\n",
       "      <th></th>\n",
       "      <th>ds</th>\n",
       "    </tr>\n",
       "  </thead>\n",
       "  <tbody>\n",
       "    <tr>\n",
       "      <th>57</th>\n",
       "      <td>1970-01-01 00:00:00.000002018</td>\n",
       "    </tr>\n",
       "    <tr>\n",
       "      <th>58</th>\n",
       "      <td>1970-01-01 00:00:00.000002019</td>\n",
       "    </tr>\n",
       "    <tr>\n",
       "      <th>59</th>\n",
       "      <td>1970-01-01 00:00:00.000002020</td>\n",
       "    </tr>\n",
       "    <tr>\n",
       "      <th>60</th>\n",
       "      <td>1970-01-01 00:00:00.000002021</td>\n",
       "    </tr>\n",
       "    <tr>\n",
       "      <th>61</th>\n",
       "      <td>1970-01-02 00:00:00.000002021</td>\n",
       "    </tr>\n",
       "  </tbody>\n",
       "</table>\n",
       "</div>"
      ],
      "text/plain": [
       "                              ds\n",
       "57 1970-01-01 00:00:00.000002018\n",
       "58 1970-01-01 00:00:00.000002019\n",
       "59 1970-01-01 00:00:00.000002020\n",
       "60 1970-01-01 00:00:00.000002021\n",
       "61 1970-01-02 00:00:00.000002021"
      ]
     },
     "execution_count": 40,
     "metadata": {},
     "output_type": "execute_result"
    }
   ],
   "source": [
    "\n",
    "future = model.make_future_dataframe (periods=1)\n",
    "future.tail()\n",
    "\n"
   ]
  },
  {
   "cell_type": "code",
   "execution_count": 41,
   "metadata": {
    "colab": {
     "base_uri": "https://localhost:8080/",
     "height": 206
    },
    "id": "gFeOvdgyE-fH",
    "outputId": "3ad2d113-767f-4537-ccc2-d0e3ee26589a"
   },
   "outputs": [
    {
     "data": {
      "text/html": [
       "<div>\n",
       "<style scoped>\n",
       "    .dataframe tbody tr th:only-of-type {\n",
       "        vertical-align: middle;\n",
       "    }\n",
       "\n",
       "    .dataframe tbody tr th {\n",
       "        vertical-align: top;\n",
       "    }\n",
       "\n",
       "    .dataframe thead th {\n",
       "        text-align: right;\n",
       "    }\n",
       "</style>\n",
       "<table border=\"1\" class=\"dataframe\">\n",
       "  <thead>\n",
       "    <tr style=\"text-align: right;\">\n",
       "      <th></th>\n",
       "      <th>ds</th>\n",
       "      <th>yhat</th>\n",
       "      <th>yhat_lower</th>\n",
       "      <th>yhat_upper</th>\n",
       "    </tr>\n",
       "  </thead>\n",
       "  <tbody>\n",
       "    <tr>\n",
       "      <th>57</th>\n",
       "      <td>1970-01-01 00:00:00.000002018</td>\n",
       "      <td>3.796094e+06</td>\n",
       "      <td>-2.874011e+07</td>\n",
       "      <td>3.644013e+07</td>\n",
       "    </tr>\n",
       "    <tr>\n",
       "      <th>58</th>\n",
       "      <td>1970-01-01 00:00:00.000002019</td>\n",
       "      <td>3.796094e+06</td>\n",
       "      <td>-2.631458e+07</td>\n",
       "      <td>3.752306e+07</td>\n",
       "    </tr>\n",
       "    <tr>\n",
       "      <th>59</th>\n",
       "      <td>1970-01-01 00:00:00.000002020</td>\n",
       "      <td>3.796094e+06</td>\n",
       "      <td>-2.741142e+07</td>\n",
       "      <td>3.491206e+07</td>\n",
       "    </tr>\n",
       "    <tr>\n",
       "      <th>60</th>\n",
       "      <td>1970-01-01 00:00:00.000002021</td>\n",
       "      <td>3.796094e+06</td>\n",
       "      <td>-2.652724e+07</td>\n",
       "      <td>3.304271e+07</td>\n",
       "    </tr>\n",
       "    <tr>\n",
       "      <th>61</th>\n",
       "      <td>1970-01-02 00:00:00.000002021</td>\n",
       "      <td>3.797711e+06</td>\n",
       "      <td>-2.970530e+07</td>\n",
       "      <td>3.401930e+07</td>\n",
       "    </tr>\n",
       "  </tbody>\n",
       "</table>\n",
       "</div>"
      ],
      "text/plain": [
       "                              ds          yhat    yhat_lower    yhat_upper\n",
       "57 1970-01-01 00:00:00.000002018  3.796094e+06 -2.874011e+07  3.644013e+07\n",
       "58 1970-01-01 00:00:00.000002019  3.796094e+06 -2.631458e+07  3.752306e+07\n",
       "59 1970-01-01 00:00:00.000002020  3.796094e+06 -2.741142e+07  3.491206e+07\n",
       "60 1970-01-01 00:00:00.000002021  3.796094e+06 -2.652724e+07  3.304271e+07\n",
       "61 1970-01-02 00:00:00.000002021  3.797711e+06 -2.970530e+07  3.401930e+07"
      ]
     },
     "execution_count": 41,
     "metadata": {},
     "output_type": "execute_result"
    }
   ],
   "source": [
    "forecast =model.predict(future)\n",
    "forecast[['ds', 'yhat', 'yhat_lower', 'yhat_upper']].tail()"
   ]
  },
  {
   "cell_type": "code",
   "execution_count": 42,
   "metadata": {
    "colab": {
     "base_uri": "https://localhost:8080/",
     "height": 391
    },
    "id": "bL_i6jRiE-iS",
    "outputId": "1813d2e6-147c-4efb-df95-fabb27a98cf0"
   },
   "outputs": [],
   "source": [
    "\n",
    "figl = model.plot(forecast,xlabel='Year', ylabel='Production',include_legend=True, figsize=(21,8))"
   ]
  },
  {
   "cell_type": "code",
   "execution_count": 43,
   "metadata": {
    "colab": {
     "base_uri": "https://localhost:8080/",
     "height": 607
    },
    "id": "4UXlw0T2E-lG",
    "outputId": "55cbe2d2-4f1a-49b0-9f5e-5c1c3bcba962"
   },
   "outputs": [],
   "source": [
    "fig2 = model.plot_components(forecast)"
   ]
  },
  {
   "cell_type": "code",
   "execution_count": 44,
   "metadata": {
    "colab": {
     "base_uri": "https://localhost:8080/"
    },
    "id": "pASACJAOKyW5",
    "outputId": "1b6ea431-7b2c-418d-bfe6-ab495bc545cd"
   },
   "outputs": [
    {
     "name": "stdout",
     "output_type": "stream",
     "text": [
      "MAE: 9080432.907781167\n"
     ]
    }
   ],
   "source": [
    "from sklearn.metrics import mean_absolute_error\n",
    "# Generate predictions on test data\n",
    "# Ensure y_pred contains predictions corresponding to the test data in 'new'\n",
    "y_pred = model.predict(new[['ds']])['yhat'] # Predict on the 'ds' values from 'new'\n",
    "\n",
    "# Calculate root mean squared error\n",
    "mae = mean_absolute_error(new['y'].values, y_pred)\n",
    "print('MAE:', mae)"
   ]
  },
  {
   "cell_type": "code",
   "execution_count": 45,
   "metadata": {
    "colab": {
     "base_uri": "https://localhost:8080/"
    },
    "id": "0ldOxC7kE-zK",
    "outputId": "e4fefcd7-f751-4af1-e742-489f8e567257"
   },
   "outputs": [
    {
     "name": "stdout",
     "output_type": "stream",
     "text": [
      "R^2 Score: 0.944\n"
     ]
    }
   ],
   "source": [
    "import numpy as np\n",
    "\n",
    "# Example actual and predicted values\n",
    "y_actual = np.array([10, 15, 20, 25, 30])\n",
    "y_pred = np.array([12, 14, 19, 27, 28])\n",
    "\n",
    "# Calculate R^2 Score\n",
    "r2 = r2_score(y_actual, y_pred)\n",
    "print(f\"R^2 Score: {r2}\")\n"
   ]
  },
  {
   "cell_type": "code",
   "execution_count": 46,
   "metadata": {
    "id": "wTeowgwLE-14"
   },
   "outputs": [],
   "source": [
    "\n",
    "#import pickle\n",
    "import pickle\n",
    "pickle.dump(model, open('fbprophet.pkl', 'wb'))"
   ]
  },
  {
   "cell_type": "code",
   "execution_count": 47,
   "metadata": {
    "id": "PqJDj5hzE-5G"
   },
   "outputs": [],
   "source": [
    "\n",
    "import pickle as pkl\n",
    "pkl.dump(best_model, open('sarima.pkl', 'wb'))"
   ]
  }
 ],
 "metadata": {
  "colab": {
   "provenance": []
  },
  "kernelspec": {
   "display_name": "Python 3",
   "language": "python",
   "name": "python3"
  },
  "language_info": {
   "codemirror_mode": {
    "name": "ipython",
    "version": 3
   },
   "file_extension": ".py",
   "mimetype": "text/x-python",
   "name": "python",
   "nbconvert_exporter": "python",
   "pygments_lexer": "ipython3",
   "version": "3.12.4"
  }
 },
 "nbformat": 4,
 "nbformat_minor": 0
}
